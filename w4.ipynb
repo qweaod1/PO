{
 "cells": [
  {
   "cell_type": "markdown",
   "metadata": {
    "id": "CRsB8G-Z9a09"
   },
   "source": [
    "# Lab 4 - klasy, obiekty i iteratory\n",
    "\n",
    "Za Wikipedia: \"Największym atutem programowania, projektowania oraz analizy obiektowej jest zgodność takiego podejścia z rzeczywistością – mózg ludzki jest w naturalny sposób najlepiej przystosowany do takiego podejścia przy przetwarzaniu informacji\"\n",
    "\n",
    "\n",
    "Python jest językiem programowania zorientowanym obiektowo. W przeciwieństwie\n",
    " do programowania zorientowanego na procedury, gdzie główny nacisk jest na\n",
    " funkcje, programowanie zorientowane obiektowo kładzie nacisk na obiekty.\n",
    " Obiekt jest po prostu zbiorem danych (zmiennych) i metod (funkcji), które działają na tych danych. Klasa jest takim planem obiektu.\n",
    "\n",
    "Możemy myśleć o klasie jako szkicu (prototypie) domu. Zawiera wszystkie szczegóły doty-\n",
    "czące podłóg, drzwi, okien itp. W oparciu o te opisy budujemy dom. Dom jest obiektem.\n",
    "Tak jak wiele domów można zbudować z opisu, tak i możemy tworzyć wiele obiektów danej\n",
    "klasy. Obiekt jest również nazywany instancją klasy, a proces tworzenia tego obiektu nazywa\n",
    "się instancjowaniem.\n",
    "Python należy do rodziny języków zorientowanych obiektowo, co oznacza że z powodzeniem wspiera obiektowy paradygmat programowania. W języku python (prawie) wszystko jest obiektem, łącznie z wartościami liczbowymi, czy funkcjami."
   ]
  },
  {
   "cell_type": "markdown",
   "metadata": {},
   "source": [
    "## Definiowanie klas\n",
    "Podobnie jak definicje funkcji zaczynają się od słowa kluczowego def, w Pythonie definiujemy\n",
    "klasę używając słowa kluczowego class.\n",
    "Pierwszy łańcuch znaków w klasie nazywa się \"docstring\" i zawiera krótki opis klasy. Chociaż\n",
    "nie jest on obowiązkowy, jest zalecane dodawanie go do każdej klasy. Powodem, dla którego istnienie docstringów w kodzie jest zalecane (a może nawet wymagane, w zależności od standardów projektu), jest to, że Python jest dynamicznie typowany. Oznacza to, że na przykład funkcja jako wartość dla dowolnego ze swoich parametrów może przyjąć wszystko. Python nie stara się wymusić typu parametru, ani go sprawdzać.\n",
    "\n",
    "\n",
    "Oto prosta definicja klasy.\n"
   ]
  },
  {
   "cell_type": "code",
   "execution_count": 1,
   "metadata": {},
   "outputs": [],
   "source": [
    "class MyNewClass:\n",
    "    '''Jestem docstringiem. Wlasnie stworzylismy nowa klase'''\n",
    "    pass"
   ]
  },
  {
   "cell_type": "markdown",
   "metadata": {},
   "source": [
    "\n",
    "## Przykład prostej klasy\n",
    "\n",
    "Klasa tworzy nową lokalną przestrzeń nazw, w której zdefiniowane są wszystkie jej atrybuty. Atrybutami mogą być dane lub metody. Istnieją także specjalne atrybuty, które zaczynają się podwójnymi podkreśleniami (\\_\\_). Na przykład \\_\\_doc\\_\\_ daje nam docstring tej klasy. Jak tylko zdefiniujemy klasę tworzy się nowy obiekt klasy o tej samej nazwie. Ten obiekt klasy pozwala na dostęp do różnych atrybutów, jak również do tworzenia nowych obiektów tej klasy.\n",
    "\n",
    "Klasa projektu domu, który posiada jedynie liczbę okien, domyślnie wynoszącą 10. Liczba okien w klasie MyHouse jest przykładem atrybutu klasy, czyli zmiennej, która w każdym obiekcie klasy jest niezależna względem innych obiektów."
   ]
  },
  {
   "cell_type": "code",
   "execution_count": 1,
   "metadata": {
    "id": "-WKp8WK29XzI"
   },
   "outputs": [],
   "source": [
    "class MyHouse: \n",
    "    '''Prosta klasa moj dom'''\n",
    "    windows = 10\n",
    "    \n",
    "    def how_many_windows(self):\n",
    "        return self.windows\n",
    "    "
   ]
  },
  {
   "cell_type": "code",
   "execution_count": 2,
   "metadata": {},
   "outputs": [
    {
     "name": "stdout",
     "output_type": "stream",
     "text": [
      "10\n"
     ]
    }
   ],
   "source": [
    "print(MyHouse.windows)"
   ]
  },
  {
   "cell_type": "code",
   "execution_count": 3,
   "metadata": {},
   "outputs": [
    {
     "name": "stdout",
     "output_type": "stream",
     "text": [
      "<function MyHouse.how_many_windows at 0x7ff17847a310>\n"
     ]
    }
   ],
   "source": [
    "print(MyHouse.how_many_windows)"
   ]
  },
  {
   "cell_type": "code",
   "execution_count": 4,
   "metadata": {},
   "outputs": [
    {
     "name": "stdout",
     "output_type": "stream",
     "text": [
      "Prosta klasa moj dom\n"
     ]
    }
   ],
   "source": [
    "print(MyHouse.__doc__)"
   ]
  },
  {
   "cell_type": "markdown",
   "metadata": {
    "id": "z2RbgeGTB86Z"
   },
   "source": [
    "Widzieliśmy, że obiekt klasy może być używany do uzyskania dostępu do różnych atrybutów. Może być również używany do tworzenia nowych instancji obiektów (instancji) tej klasy. Procedura tworzenia obiektu jest podobna do wywołania funkcji.\n",
    "\n",
    "Według takiej klasy (projektu budowy domu) można utworzyć wiele instancji (realnych domów), czyli obiektów."
   ]
  },
  {
   "cell_type": "code",
   "execution_count": 5,
   "metadata": {
    "id": "Pui2debDB3BR"
   },
   "outputs": [],
   "source": [
    "house1 = MyHouse()\n",
    "house2 = MyHouse()\n",
    "house3 = MyHouse()"
   ]
  },
  {
   "cell_type": "markdown",
   "metadata": {
    "id": "Y6D6LOZjCDdr"
   },
   "source": [
    "Spowoduje to utworzenie trzech instancji obiektu o nazwach house1, house2 i house3. Możemy uzyskać dostęp do atrybutów obiektów używając prefiksu nazwy obiektu. Atrybutami mogą być dane lub metoda. Metody obiektu odpowiadają funkcjom tej klasy. Każdy obiekt funkcji będący atrybutem klasy definiuje metodę dla obiektów tej klasy. Oznacza to, że ponieważ MyHouse.how_many_windows jest obiektem funkcji (atrybutem klasy), house1.how_many_windows będzie obiektem metody.\n",
    "\n",
    "Można sprawdzić ile okien ma każdy z trzech domów"
   ]
  },
  {
   "cell_type": "code",
   "execution_count": 7,
   "metadata": {
    "colab": {
     "base_uri": "https://localhost:8080/"
    },
    "executionInfo": {
     "elapsed": 812,
     "status": "ok",
     "timestamp": 1616501632506,
     "user": {
      "displayName": "Tomasz",
      "photoUrl": "",
      "userId": "05358483110003930735"
     },
     "user_tz": -60
    },
    "id": "ak4ilXgaB_iS",
    "outputId": "2e72a8c6-4272-44e4-bdb5-09a4dc2e1f50"
   },
   "outputs": [
    {
     "name": "stdout",
     "output_type": "stream",
     "text": [
      "Liczba okien w domu 1: 10\n",
      "Liczba okien w domu 2: 10\n",
      "Liczba okien w domu 3: 10\n"
     ]
    }
   ],
   "source": [
    "print(f'Liczba okien w domu 1: {house1.windows}')\n",
    "print(f'Liczba okien w domu 2: {house2.windows}')\n",
    "print(f'Liczba okien w domu 3: {house3.windows}')"
   ]
  },
  {
   "cell_type": "markdown",
   "metadata": {
    "id": "85CT1UJ1CvtP"
   },
   "source": [
    "Każdy z 3 domów ma po 10 okien, które są ustawione \"na sztywno\". Można zmodyfikować ilość okien."
   ]
  },
  {
   "cell_type": "code",
   "execution_count": 6,
   "metadata": {
    "colab": {
     "base_uri": "https://localhost:8080/"
    },
    "executionInfo": {
     "elapsed": 693,
     "status": "ok",
     "timestamp": 1616501656328,
     "user": {
      "displayName": "Tomasz",
      "photoUrl": "",
      "userId": "05358483110003930735"
     },
     "user_tz": -60
    },
    "id": "Ne7Rjy0KCGij",
    "outputId": "f91dd6e7-ee2c-4a5e-b6c9-9f042c3563ba"
   },
   "outputs": [
    {
     "name": "stdout",
     "output_type": "stream",
     "text": [
      "Liczba okien w domu 1: 20\n",
      "Liczba okien w domu 2: 5\n",
      "Liczba okien w domu 3: 15\n"
     ]
    }
   ],
   "source": [
    "house1.windows = 20\n",
    "house2.windows = 5\n",
    "house3.windows = 15\n",
    "\n",
    "\n",
    "print(f'Liczba okien w domu 1: {house1.windows}')\n",
    "print(f'Liczba okien w domu 2: {house2.windows}')\n",
    "print(f'Liczba okien w domu 3: {house3.windows}')"
   ]
  },
  {
   "cell_type": "markdown",
   "metadata": {
    "id": "xGVmyfMHC2Wq"
   },
   "source": [
    "Po modyfikacji każdy z 3 domów ma inną liczbę okien.\n",
    "Można również sprawdzić ilość okien wywołujc odpowiednia metodę. W naszym przypadku używając metody how_many_windows."
   ]
  },
  {
   "cell_type": "code",
   "execution_count": 7,
   "metadata": {},
   "outputs": [
    {
     "name": "stdout",
     "output_type": "stream",
     "text": [
      "20\n",
      "5\n",
      "15\n",
      "20\n"
     ]
    }
   ],
   "source": [
    "print(house1.how_many_windows())\n",
    "print(house2.how_many_windows())\n",
    "print(house3.how_many_windows())\n",
    "print(MyHouse.how_many_windows(house1))"
   ]
  },
  {
   "cell_type": "markdown",
   "metadata": {},
   "source": [
    "Można zauważyć parametr self w definicji metody wewnątrz klasy, ale wywołaliśmy metodę po prostu house1.how_many_windows() bez jakichkolwiek argumentów. I nadal działała! Dzieje się tak, ponieważ, gdy obiekt wywołuje metodę, sam obiekt jest przekazywany jako pierwszy argument. Więc house1.how_many_windows() przekłada się na MyHouse.how_many_windows(house1). Ogólnie rzecz biorąc, wywołanie metody z listą n argumentów jest równoznaczne z wywołaniem odpowiedniej funkcji z listą argumentów, która jest tworzona przez wstawienie metod obiektu przed pierwszym argumentem. Z tych powodów pierwszym argumentem funkcji w klasie musi być sam obiekt. Jest on zazwyczaj\n",
    "nazywany self. Można go nazwać inaczej, ale zdecydowanie poleca się stosować tę konwencję."
   ]
  },
  {
   "cell_type": "markdown",
   "metadata": {
    "id": "xGVmyfMHC2Wq"
   },
   "source": [
    "## Inicjalizator\n",
    "\n",
    "Metody klasy rozpoczynające się podwójnym podkreśleniem (\\_\\_) nazywane są metodami magicznymi (inaczej atrybuty specjalne klasy), ponieważ mają specjalne znaczenie. \n",
    "\n",
    "Szczególnym przypadkiem jest tutaj metoda \\_\\_init\\_\\_. Ta specjalna metoda jest wywoływana, gdy jest tworzony nowy obiekt danej klasy.\n",
    "Możnaby pomyśleć, że metoda magiczna \\_\\_init\\_\\_ jest konstruktorem podobnym do tych z języków Java czy C++. \n",
    "Jednak w Pythonie rozróżniono konstruktor od inicjalizatora.\n",
    "\n",
    "\\_\\_init\\_\\_ jest rzeczywiście sposobem na inicjowanie stanu w instancji.\n",
    "\n",
    "Metoda magiczna \\_\\_new\\_\\_ odpowiada za tworzenie instancji (więc to ona jest odpowiednikiem znanych nam konstruktorów). \n",
    "\n",
    "Metoda magiczna \\_\\_new\\_\\_ jest metodą wywoływaną jako pierwsza podczas tworzenia nowych obiektów. Jest wywoływana jeszcze przed najpopularniejszą z magicznych metod czyli \\_\\_init\\_\\_ i jej zadaniem jest stworzenie i zwrócenie nowej instancji danej klasy, która to zaraz potem jest przekazywana do metody \\_\\_init\\_\\_ jako pierwszy argument (self). Zazwyczaj używamy jej do inicjalizacji wszystkich zmiennych.\n",
    "\n",
    "Inicjalizator służy do nadawania własnych wartości atrybutom klas w momencie tworzenia ich instancji (obiektów). Inicjalizator jest funkcją o nazwie \\_\\_init\\_\\_(), która jest umieszczona wewnątrz klasy. Metoda ta - tak jak inne funkcje - może przyjmować argumenty.\n",
    "\n",
    "Stwórzmy \"ciekawszy\" projekt domu, który będzie zawierał:\n",
    "- liczbę okien\n",
    "- liczbę drzwi\n",
    "- kolor elewacji\n",
    "\n",
    "Projekt tego domu umieścimy w klasie MyDreamHouse, która będzie zawierała atrybuty:\n",
    "- windows (liczba okien)\n",
    "- doors (liczba drzwi)\n",
    "- color (kolor elewacji)\n",
    "- age (wiek domu, tuż po wybudowaniu dom zawsze będzie miał 0 lat)\n",
    "\n",
    "Dodatkowo użyjemy inicjalizatora, który pozwoli nam spersonalizować nasz dom w momencie tworzenia obiektu (jego budowy). Wyjątkiem jest wiek domu. Tuż po wybudowaniu nie jesteśmy w stanie realnie zmienić jego wieku, gdyż zmienia się on sam z upływem czasu."
   ]
  },
  {
   "cell_type": "code",
   "execution_count": 10,
   "metadata": {
    "id": "1-9HZDvsCz7S"
   },
   "outputs": [],
   "source": [
    "class MyDreamHouse:\n",
    "    def __init__(self, window_count, door_count, color_name):\n",
    "        self.windows = window_count\n",
    "        self.doors = door_count\n",
    "        self.color = color_name\n",
    "        self.age = 0"
   ]
  },
  {
   "cell_type": "markdown",
   "metadata": {
    "id": "XO92vEm3G2xa"
   },
   "source": [
    "Mając projekt nowego domu, można stworzyć kilka obiektów według tego planu. Korzystając z inicjalizatora, możemy w momencie budowy spersonalizować ten dom.\n",
    "\n",
    "Niech domy będą następujące:\n",
    "- dream_house1 (dom 1): liczba okien - 6, liczba drzwi - 10, kolor - czerwony\n",
    "- dream_house2 (dom 2): liczba okien - 8, liczba drzwi - 5, kolor - zielony\n",
    "- dream_house3 (dom 3): liczba okien - 10, liczba drzwi - 15, kolor - niebieski"
   ]
  },
  {
   "cell_type": "code",
   "execution_count": 11,
   "metadata": {
    "id": "XqlUja0EGjn2"
   },
   "outputs": [],
   "source": [
    "dream_house1 = MyDreamHouse(6, 10, 'red')\n",
    "dream_house2 = MyDreamHouse(8, 5, 'green')\n",
    "dream_house3 = MyDreamHouse(10, 15, 'blue')"
   ]
  },
  {
   "cell_type": "markdown",
   "metadata": {
    "id": "X3lfGDrRHh_G"
   },
   "source": [
    "Mając już wybudowane 3 domy według nowego projektu, można wyswietlić ich atrybuty"
   ]
  },
  {
   "cell_type": "code",
   "execution_count": 12,
   "metadata": {
    "colab": {
     "base_uri": "https://localhost:8080/"
    },
    "executionInfo": {
     "elapsed": 1014,
     "status": "ok",
     "timestamp": 1616501950825,
     "user": {
      "displayName": "Tomasz",
      "photoUrl": "",
      "userId": "05358483110003930735"
     },
     "user_tz": -60
    },
    "id": "r89B5xTtHBFm",
    "outputId": "e0d7b564-5921-4863-dbf4-f34872b4b7d8"
   },
   "outputs": [
    {
     "name": "stdout",
     "output_type": "stream",
     "text": [
      "Dom marzen 1: liczba okien - 6, liczba drzwi - 10, kolor: red, wiek: 0\n",
      "Dom marzen 2: liczba okien - 8, liczba drzwi - 5, kolor: green, wiek: 0\n",
      "Dom marzen 3: liczba okien - 10, liczba drzwi - 15, kolor: blue, wiek: 0\n"
     ]
    }
   ],
   "source": [
    "print(f'Dom marzen 1: liczba okien - {dream_house1.windows}, liczba drzwi - {dream_house1.doors}, kolor: {dream_house1.color}, wiek: {dream_house1.age}')\n",
    "print(f'Dom marzen 2: liczba okien - {dream_house2.windows}, liczba drzwi - {dream_house2.doors}, kolor: {dream_house2.color}, wiek: {dream_house2.age}')\n",
    "print(f'Dom marzen 3: liczba okien - {dream_house3.windows}, liczba drzwi - {dream_house3.doors}, kolor: {dream_house3.color}, wiek: {dream_house1.age}')"
   ]
  },
  {
   "cell_type": "markdown",
   "metadata": {
    "id": "laGBNWz_H1qx"
   },
   "source": [
    "Wiemy już, że atrybuty reprezentują pewien stan wewnętrzny obiektu. Dom mogą charakteryzować atrybuty takie jak liczba okien, kolor, czy wiek. Pewne atrybuty mogą się z czasem zmieniać, przykładowo po wyburzeniu jednej ze ścian liczba drzwi może ulec zmniejszeniu. Po upływie czasu wiek domu ulega zwiększeniu. Modyfikacji tych atrybutów można dokonać bezpośrednio na obiekcie."
   ]
  },
  {
   "cell_type": "code",
   "execution_count": 13,
   "metadata": {
    "id": "ySnPJHKEHkpS"
   },
   "outputs": [],
   "source": [
    "dream_house1.doors = 5"
   ]
  },
  {
   "cell_type": "markdown",
   "metadata": {
    "id": "MSlVMu-2H9SH"
   },
   "source": [
    "Po takiej modyfikacji 1. domu będzie on wyglądał następująco:"
   ]
  },
  {
   "cell_type": "code",
   "execution_count": 14,
   "metadata": {
    "colab": {
     "base_uri": "https://localhost:8080/"
    },
    "executionInfo": {
     "elapsed": 1291,
     "status": "ok",
     "timestamp": 1616502003052,
     "user": {
      "displayName": "Tomasz",
      "photoUrl": "",
      "userId": "05358483110003930735"
     },
     "user_tz": -60
    },
    "id": "qyQGTm0MH6iD",
    "outputId": "126e8f96-7818-43c8-9a1d-f6fcdb22de7b"
   },
   "outputs": [
    {
     "name": "stdout",
     "output_type": "stream",
     "text": [
      "Dom marzen 1: liczba okien - 6, liczba drzwi - 5, kolor: red, wiek: 0\n"
     ]
    }
   ],
   "source": [
    "print(f'Dom marzen 1: liczba okien - {dream_house1.windows}, liczba drzwi - {dream_house1.doors}, kolor: {dream_house1.color}, wiek: {dream_house1.age}')"
   ]
  },
  {
   "cell_type": "markdown",
   "metadata": {
    "id": "m-E_mCqXiFUq"
   },
   "source": [
    "Reszta domów pozostała bez zmian:"
   ]
  },
  {
   "cell_type": "code",
   "execution_count": 15,
   "metadata": {
    "colab": {
     "base_uri": "https://localhost:8080/"
    },
    "executionInfo": {
     "elapsed": 695,
     "status": "ok",
     "timestamp": 1616502028045,
     "user": {
      "displayName": "Tomasz",
      "photoUrl": "",
      "userId": "05358483110003930735"
     },
     "user_tz": -60
    },
    "id": "ifnJZ7_WH_5n",
    "outputId": "52a7bfe5-c0dc-4693-a6db-3ba9cd2c8392"
   },
   "outputs": [
    {
     "name": "stdout",
     "output_type": "stream",
     "text": [
      "Dom marzen 2: liczba okien - 8, liczba drzwi - 5, kolor: green, wiek: 0\n",
      "Dom marzen 3: liczba okien - 10, liczba drzwi - 15, kolor: blue, wiek: 0\n"
     ]
    }
   ],
   "source": [
    "print(f'Dom marzen 2: liczba okien - {dream_house2.windows}, liczba drzwi - {dream_house2.doors}, kolor: {dream_house2.color}, wiek: {dream_house2.age}')\n",
    "print(f'Dom marzen 3: liczba okien - {dream_house3.windows}, liczba drzwi - {dream_house3.doors}, kolor: {dream_house3.color}, wiek: {dream_house1.age}')"
   ]
  },
  {
   "cell_type": "markdown",
   "metadata": {
    "id": "Pqm0n2iSiPtp"
   },
   "source": [
    "## Metody\n",
    "\n",
    "Modyfikacji stanu wewnętrznego obiektu można dokonać również w bardziej \"elegancki\" sposób - za pomocą metod.\n",
    "\n",
    "Metody są funkcjami, które operują tylko na atrybutach poszczególnego obiektu i mogą je modyfikować. Oznacza to, że wywołując pewną metodę na obiekcie domu 1, odniesie się ona tylko i wyłącznie do wartości atrybutów tego obiektu. Pozostałe obiekty (domy) pozostaną bez zmian. Jeżeli metoda jest funkcją, to oznacza że może przyjmować dowolne argumenty. Inicjalizator (metoda __init()__) również jest metodą.\n",
    "\n",
    "Każda metoda posiada jeden dodatkowy argument (self), nawet jeżeli żadnych nie przyjmuje. Argument self musi być zawsze na początku listy argumentów danej metody i nie trzeba go przekazywać podczas wywoływania metody na obiekcie. Za pomocą argumentu self możemy odwołać się do stanu wewnętrznego obiektu z poziomu metody, która może być na nim wywołana.\n",
    "\n",
    "Stwórzmy dwie metody w klasie MyDreamHouse\n",
    "- metoda doors_and_windows zwróci zsumowaną liczebność drzwi i okien w danym domu\n",
    "- metoda age_it przyjmie w argumencie liczbowym ilośc lat i postarza dom o ten czas przyjęty w argumencie"
   ]
  },
  {
   "cell_type": "code",
   "execution_count": 8,
   "metadata": {
    "id": "ddwPcM6hiHMa"
   },
   "outputs": [],
   "source": [
    "class MyDreamHouse:\n",
    "    def __init__(self, window_count, door_count, color_name):\n",
    "        self.windows = window_count\n",
    "        self.doors = door_count\n",
    "        self.color = color_name\n",
    "        self.age = 0\n",
    "\n",
    "    def doors_and_windows(self):  \n",
    "        return self.windows + self.doors\n",
    "\n",
    "    def age_it(self, years): \n",
    "        self.age = self.age + years\n",
    "    "
   ]
  },
  {
   "cell_type": "markdown",
   "metadata": {
    "id": "mfXRHEeKibWK"
   },
   "source": [
    "\n",
    "Mając już uaktualniony projekt budowy domu marzeń, możemy jeszcze raz stworzyć wedle niego 3 obiekty,"
   ]
  },
  {
   "cell_type": "code",
   "execution_count": 9,
   "metadata": {
    "id": "R_zNZw0KiZL0"
   },
   "outputs": [],
   "source": [
    "dream_house1 = MyDreamHouse(6, 10, 'red')\n",
    "dream_house2 = MyDreamHouse(8, 5, 'green')\n",
    "dream_house3 = MyDreamHouse(10, 15, 'blue')"
   ]
  },
  {
   "cell_type": "markdown",
   "metadata": {
    "id": "KVYv4ynWigjb"
   },
   "source": [
    "które wyglądają następująco"
   ]
  },
  {
   "cell_type": "code",
   "execution_count": 10,
   "metadata": {
    "colab": {
     "base_uri": "https://localhost:8080/"
    },
    "executionInfo": {
     "elapsed": 1017,
     "status": "ok",
     "timestamp": 1616502689842,
     "user": {
      "displayName": "Tomasz",
      "photoUrl": "",
      "userId": "05358483110003930735"
     },
     "user_tz": -60
    },
    "id": "k1TLAwogidwG",
    "outputId": "738b6dc5-5e35-4c0a-e950-3a3dc4c95c6a"
   },
   "outputs": [
    {
     "name": "stdout",
     "output_type": "stream",
     "text": [
      "Dom marzen 1: liczba okien - 6, liczba drzwi - 10, kolor: red, wiek: 0\n",
      "Dom marzen 2: liczba okien - 8, liczba drzwi - 5, kolor: green, wiek: 0\n",
      "Dom marzen 3: liczba okien - 10, liczba drzwi - 15, kolor: blue, wiek: 0\n"
     ]
    }
   ],
   "source": [
    "print(f'Dom marzen 1: liczba okien - {dream_house1.windows}, liczba drzwi - {dream_house1.doors}, kolor: {dream_house1.color}, wiek: {dream_house1.age}')\n",
    "print(f'Dom marzen 2: liczba okien - {dream_house2.windows}, liczba drzwi - {dream_house2.doors}, kolor: {dream_house2.color}, wiek: {dream_house2.age}')\n",
    "print(f'Dom marzen 3: liczba okien - {dream_house3.windows}, liczba drzwi - {dream_house3.doors}, kolor: {dream_house3.color}, wiek: {dream_house1.age}')"
   ]
  },
  {
   "cell_type": "markdown",
   "metadata": {
    "id": "lo1fRbXMil3p"
   },
   "source": [
    "\n",
    "Teraz za pomocą metody doors_and_windows, możemy sprawdzić ile drzwi i okien ma każdy z tych domów."
   ]
  },
  {
   "cell_type": "code",
   "execution_count": 11,
   "metadata": {
    "colab": {
     "base_uri": "https://localhost:8080/"
    },
    "executionInfo": {
     "elapsed": 741,
     "status": "ok",
     "timestamp": 1616502691173,
     "user": {
      "displayName": "Tomasz",
      "photoUrl": "",
      "userId": "05358483110003930735"
     },
     "user_tz": -60
    },
    "id": "YWmDit9hijOp",
    "outputId": "215acd68-9842-4782-fd65-1f467aa7601c"
   },
   "outputs": [
    {
     "name": "stdout",
     "output_type": "stream",
     "text": [
      "Liczba drzwi i okien w domu 1: 16\n",
      "Liczba drzwi i okien w domu 2: 13\n",
      "Liczba drzwi i okien w domu 3: 25\n"
     ]
    }
   ],
   "source": [
    "print(f'Liczba drzwi i okien w domu 1: {dream_house1.doors_and_windows()}')\n",
    "print(f'Liczba drzwi i okien w domu 2: {dream_house2.doors_and_windows()}')\n",
    "print(f'Liczba drzwi i okien w domu 3: {dream_house3.doors_and_windows()}')"
   ]
  },
  {
   "cell_type": "markdown",
   "metadata": {
    "id": "Raww-bo0iqKj"
   },
   "source": [
    "Załóżmy, że minęły 2 lata od budowy domów. Możemy teraz każdy z nich postarzeć o 2 lata za pomocą metody age_it."
   ]
  },
  {
   "cell_type": "code",
   "execution_count": 12,
   "metadata": {
    "id": "U1Y_XAn0ioIO"
   },
   "outputs": [],
   "source": [
    "dream_house1.age_it(2)\n",
    "dream_house2.age_it(2)\n",
    "dream_house3.age_it(2)"
   ]
  },
  {
   "cell_type": "markdown",
   "metadata": {
    "id": "kxuJxqpjiuRq"
   },
   "source": [
    "Zobaczmy, jak każdy z nich zmienił się przez ten czas:"
   ]
  },
  {
   "cell_type": "code",
   "execution_count": 13,
   "metadata": {
    "colab": {
     "base_uri": "https://localhost:8080/"
    },
    "executionInfo": {
     "elapsed": 614,
     "status": "ok",
     "timestamp": 1616443541525,
     "user": {
      "displayName": "Tomasz",
      "photoUrl": "",
      "userId": "05358483110003930735"
     },
     "user_tz": -60
    },
    "id": "hPboTA1gismR",
    "outputId": "23892f61-7ac4-4b31-c04b-0e3af5f11290"
   },
   "outputs": [
    {
     "name": "stdout",
     "output_type": "stream",
     "text": [
      "Dom marzen 1: liczba okien - 6, liczba drzwi - 10, kolor: red, wiek: 2\n",
      "Dom marzen 2: liczba okien - 8, liczba drzwi - 5, kolor: green, wiek: 2\n",
      "Dom marzen 3: liczba okien - 10, liczba drzwi - 15, kolor: blue, wiek: 2\n"
     ]
    }
   ],
   "source": [
    "print(f'Dom marzen 1: liczba okien - {dream_house1.windows}, liczba drzwi - {dream_house1.doors}, kolor: {dream_house1.color}, wiek: {dream_house1.age}')\n",
    "print(f'Dom marzen 2: liczba okien - {dream_house2.windows}, liczba drzwi - {dream_house2.doors}, kolor: {dream_house2.color}, wiek: {dream_house2.age}')\n",
    "print(f'Dom marzen 3: liczba okien - {dream_house3.windows}, liczba drzwi - {dream_house3.doors}, kolor: {dream_house3.color}, wiek: {dream_house1.age}')"
   ]
  },
  {
   "cell_type": "code",
   "execution_count": 14,
   "metadata": {},
   "outputs": [],
   "source": [
    "dream_house1.age_it(3)\n",
    "dream_house2.age_it(3)\n",
    "dream_house3.age_it(3)"
   ]
  },
  {
   "cell_type": "code",
   "execution_count": 15,
   "metadata": {},
   "outputs": [
    {
     "name": "stdout",
     "output_type": "stream",
     "text": [
      "Dom marzen 1: liczba okien - 6, liczba drzwi - 10, kolor: red, wiek: 5\n",
      "Dom marzen 2: liczba okien - 8, liczba drzwi - 5, kolor: green, wiek: 5\n",
      "Dom marzen 3: liczba okien - 10, liczba drzwi - 15, kolor: blue, wiek: 5\n"
     ]
    }
   ],
   "source": [
    "print(f'Dom marzen 1: liczba okien - {dream_house1.windows}, liczba drzwi - {dream_house1.doors}, kolor: {dream_house1.color}, wiek: {dream_house1.age}')\n",
    "print(f'Dom marzen 2: liczba okien - {dream_house2.windows}, liczba drzwi - {dream_house2.doors}, kolor: {dream_house2.color}, wiek: {dream_house2.age}')\n",
    "print(f'Dom marzen 3: liczba okien - {dream_house3.windows}, liczba drzwi - {dream_house3.doors}, kolor: {dream_house3.color}, wiek: {dream_house1.age}')"
   ]
  },
  {
   "cell_type": "markdown",
   "metadata": {},
   "source": [
    "### Usuwanie atrybutów i obiektów\n",
    "Każdy atrybut obiektu można usunąć w każdej chwili, używając instrukcji del.\n",
    "\n"
   ]
  },
  {
   "cell_type": "code",
   "execution_count": 14,
   "metadata": {},
   "outputs": [
    {
     "name": "stdout",
     "output_type": "stream",
     "text": [
      "6\n"
     ]
    }
   ],
   "source": [
    "print(dream_house1.windows)\n",
    "del dream_house1.windows"
   ]
  },
  {
   "cell_type": "code",
   "execution_count": 15,
   "metadata": {},
   "outputs": [
    {
     "ename": "AttributeError",
     "evalue": "'MyDreamHouse' object has no attribute 'windows'",
     "output_type": "error",
     "traceback": [
      "\u001B[0;31m---------------------------------------------------------------------------\u001B[0m",
      "\u001B[0;31mAttributeError\u001B[0m                            Traceback (most recent call last)",
      "\u001B[0;32m/tmp/ipykernel_7051/707544932.py\u001B[0m in \u001B[0;36m<module>\u001B[0;34m\u001B[0m\n\u001B[0;32m----> 1\u001B[0;31m \u001B[0mdream_house1\u001B[0m\u001B[0;34m.\u001B[0m\u001B[0mdoors_and_windows\u001B[0m\u001B[0;34m(\u001B[0m\u001B[0;34m)\u001B[0m\u001B[0;34m\u001B[0m\u001B[0;34m\u001B[0m\u001B[0m\n\u001B[0m",
      "\u001B[0;32m/tmp/ipykernel_7051/2788025134.py\u001B[0m in \u001B[0;36mdoors_and_windows\u001B[0;34m(self)\u001B[0m\n\u001B[1;32m      7\u001B[0m \u001B[0;34m\u001B[0m\u001B[0m\n\u001B[1;32m      8\u001B[0m     \u001B[0;32mdef\u001B[0m \u001B[0mdoors_and_windows\u001B[0m\u001B[0;34m(\u001B[0m\u001B[0mself\u001B[0m\u001B[0;34m)\u001B[0m\u001B[0;34m:\u001B[0m\u001B[0;34m\u001B[0m\u001B[0;34m\u001B[0m\u001B[0m\n\u001B[0;32m----> 9\u001B[0;31m         \u001B[0;32mreturn\u001B[0m \u001B[0mself\u001B[0m\u001B[0;34m.\u001B[0m\u001B[0mwindows\u001B[0m \u001B[0;34m+\u001B[0m \u001B[0mself\u001B[0m\u001B[0;34m.\u001B[0m\u001B[0mdoors\u001B[0m\u001B[0;34m\u001B[0m\u001B[0;34m\u001B[0m\u001B[0m\n\u001B[0m\u001B[1;32m     10\u001B[0m \u001B[0;34m\u001B[0m\u001B[0m\n\u001B[1;32m     11\u001B[0m     \u001B[0;32mdef\u001B[0m \u001B[0mage_it\u001B[0m\u001B[0;34m(\u001B[0m\u001B[0mself\u001B[0m\u001B[0;34m,\u001B[0m \u001B[0myears\u001B[0m\u001B[0;34m)\u001B[0m\u001B[0;34m:\u001B[0m\u001B[0;34m\u001B[0m\u001B[0;34m\u001B[0m\u001B[0m\n",
      "\u001B[0;31mAttributeError\u001B[0m: 'MyDreamHouse' object has no attribute 'windows'"
     ]
    }
   ],
   "source": [
    "dream_house1.doors_and_windows()"
   ]
  },
  {
   "cell_type": "markdown",
   "metadata": {},
   "source": [
    "Możemy nawet usunąć obiekt, używając w tym celu instrukcji del.\n"
   ]
  },
  {
   "cell_type": "code",
   "execution_count": 16,
   "metadata": {},
   "outputs": [
    {
     "ename": "NameError",
     "evalue": "name 'dream_house1' is not defined",
     "output_type": "error",
     "traceback": [
      "\u001B[0;31m---------------------------------------------------------------------------\u001B[0m",
      "\u001B[0;31mNameError\u001B[0m                                 Traceback (most recent call last)",
      "\u001B[0;32m/tmp/ipykernel_7051/478770723.py\u001B[0m in \u001B[0;36m<module>\u001B[0;34m\u001B[0m\n\u001B[1;32m      1\u001B[0m \u001B[0;32mdel\u001B[0m \u001B[0mdream_house1\u001B[0m\u001B[0;34m\u001B[0m\u001B[0;34m\u001B[0m\u001B[0m\n\u001B[0;32m----> 2\u001B[0;31m \u001B[0mprint\u001B[0m\u001B[0;34m(\u001B[0m\u001B[0;34mf'Dom marzen 1: liczba okien - {dream_house1.windows}, liczba drzwi - {dream_house1.doors}, kolor: {dream_house1.color}, wiek: {dream_house1.age}'\u001B[0m\u001B[0;34m)\u001B[0m\u001B[0;34m\u001B[0m\u001B[0;34m\u001B[0m\u001B[0m\n\u001B[0m",
      "\u001B[0;31mNameError\u001B[0m: name 'dream_house1' is not defined"
     ]
    }
   ],
   "source": [
    "del dream_house1\n",
    "print(f'Dom marzen 1: liczba okien - {dream_house1.windows}, liczba drzwi - {dream_house1.doors}, kolor: {dream_house1.color}, wiek: {dream_house1.age}')"
   ]
  },
  {
   "cell_type": "markdown",
   "metadata": {},
   "source": [
    "Jednakże, jest to bardziej skomplikowane niż nam się wydaje. Kiedy wykonamy dream_house1 = MyDreamHouse(6, 10, 'red'), w pamięci zostanie utworzona nowa instancja obiektu, a jego nazwa dream_house1 zostanie z nią związana. W poleceniu del dream_house1 wiązanie to zostaje usunięte, a nazwa dream_house1 jest usuwana z odpowiedniego obszaru nazw. Obiekt nadal istnieje w pamięci, a jeśli nie ma innej nazwy, jest on automatycznie niszczony."
   ]
  },
  {
   "cell_type": "markdown",
   "metadata": {
    "id": "rdzmSXiBkez0"
   },
   "source": [
    "\n",
    "\n",
    "### Typowanie w programowaniu obiektowym\n",
    "\n",
    "Wszystkim składnikom klas, jak i ich instancjom można nadawać odpowiednie typy wartości. Pola w klasach typujemy jak klasyczne zmienne, metody jak klasyczne funkcje. Instancjom klas nadajemy typy zgodne z klasami.\n",
    "\n",
    "Przykład prawidłowo otypowanej klasy wraz z utworzoną instancją:"
   ]
  },
  {
   "cell_type": "code",
   "execution_count": 17,
   "metadata": {
    "id": "phkNbKUv-wT8"
   },
   "outputs": [],
   "source": [
    "class Phone:\n",
    "    manufacturer: str \n",
    "    model: str\n",
    "    owner_id: int\n",
    "\n",
    "  \n",
    "    def __init__(self, manufacturer: str, model: str, owner: int) -> None:\n",
    "        self.manufacturer = manufacturer\n",
    "        self.model = model\n",
    "        self.owner_id = owner\n",
    "\n",
    "    def get_phone_name(self) -> str:  \n",
    "        return f'{self.manufacturer} {self.model}'\n",
    "\n",
    "    def change_owner(self, owner_id: int) -> None:\n",
    "        if owner_id == self.owner_id:  \n",
    "            print('nowy wlasciciel nie moze byc wlascicielem dotychczasowym')\n",
    "\n",
    "        self.owner_id = owner_id"
   ]
  },
  {
   "cell_type": "code",
   "execution_count": 18,
   "metadata": {
    "id": "3JSOLwmV_zOe"
   },
   "outputs": [],
   "source": [
    "iphone_x: Phone = Phone('Apple', 'iPhone X', 1)\n",
    "iphone_xs: Phone = Phone('Apple', 'iPhone XS', 2)"
   ]
  },
  {
   "cell_type": "code",
   "execution_count": 33,
   "metadata": {},
   "outputs": [
    {
     "name": "stdout",
     "output_type": "stream",
     "text": [
      "Apple iPhone X\n",
      "3\n"
     ]
    }
   ],
   "source": [
    "print(iphone_x.get_phone_name())\n",
    "iphone_x.change_owner(3)\n",
    "print(iphone_x.owner_id)"
   ]
  },
  {
   "cell_type": "markdown",
   "metadata": {},
   "source": [
    "Napiszmy kod razem ComplexNumber - klasa reprezentujaca liczby zespolone:"
   ]
  },
  {
   "cell_type": "code",
   "execution_count": 37,
   "metadata": {},
   "outputs": [],
   "source": [
    "class ComplexNumber:\n",
    "    real: float\n",
    "    imag: float\n",
    "\n",
    "    \n",
    "    def __init__(self, r: float = 0, i: float = 0) -> None:\n",
    "        self.real = r\n",
    "        self.imag = i\n",
    "        \n",
    "    def get_data(self) -> None:\n",
    "        print(\"{0}+{1}j\".format(self.real, self.imag))\n",
    "        \n"
   ]
  },
  {
   "cell_type": "code",
   "execution_count": 38,
   "metadata": {},
   "outputs": [
    {
     "name": "stdout",
     "output_type": "stream",
     "text": [
      "2+3j\n",
      "0+0j\n",
      "4+0j\n"
     ]
    }
   ],
   "source": [
    "c1 = ComplexNumber(2,3)\n",
    "c2 = ComplexNumber()\n",
    "c3 = ComplexNumber(4)\n",
    "c1.get_data()\n",
    "c2.get_data()\n",
    "c3.get_data()\n"
   ]
  },
  {
   "cell_type": "markdown",
   "metadata": {},
   "source": [
    "# Zadania klasy\n",
    "\n",
    "1. Utworzyć klasę Square (kwadrat), która będzie zawierała inicjalizator ustawiający atrybut liczbowy side (długość boku), oraz metody:\n",
    "  - area, która zwróci pole tego kwadratu\n",
    "  - perimeter, która zwróci obwód tego kwadratu\n",
    "\n",
    "2. Utworzyć klasę Triangle (trójkąt równoramienny), która będzie zawierała inicjalizator ustawiający atrybuty liczbowe:\n",
    "  - side (długość boku)\n",
    "  - height (wysokość),\n",
    "  - oraz metody:\n",
    "  - area, która zwróci pole tego trójkąta\n",
    "  - perimeter, która zwróci obwód tego trójkąta\n",
    "\n",
    "3. Za pomocą pętli utworzyć listy:\n",
    "  - 10 kwadratów dla długości boków od 11 do 20\n",
    "  - 25 trójkątów dla długości boków od 6 do 10 i wysokości od 15 do 19\n",
    "  - Wyświetlić pola i obwody kazdej z tych figur\n",
    "\n",
    "4. Utworzyć klasę Tree (drzewo), która będzie zawierała inicjalizator ustawiający następujące atrybuty:\n",
    "  - name (imię drzewa)\n",
    "  - height (wysokość drzewa [m])\n",
    "  - leafs (liczba liści),\n",
    "  - oraz metody:\n",
    "  - grow_up (rośnij wzwyż), która przyjmie argument liczbowy w postaci wysokości do dodania, a następnie zwiększy wysokość tego drzewa\n",
    "  - grow_wide (rośnij wszerz), która przyjmie argument liczbowy w postaci liczby nowych liści,\n",
    "  - show, która wyświetli na ekranie wszystkie parametry drzewa wraz z ich wartościami\n",
    "  - Utworzyć 5 takich drzew (5 obiektów) i wyświetlić ich stan wewnętrzny, a następnie dla dwóch wybranych drzew zwiększyć wysokość i jeszcze raz wyświetlić ich stan wewnętrzny\n",
    "\n",
    "5. Utworzyć klasę Matrix (macierz), która będzie zawierała atrybut przechowujący wartości macierzy w postaci listy dwuwymiarowej. Umieścić w klasie następujące metody:\n",
    "  - inicjalizator, który przyjmie dowolną liczbę kolumn macierzy (przekazywane jako listy)\n",
    "  - metodę transpose zwracającą macierz transponowaną\n",
    "  - size zwracającą wymiary macierzy\n",
    "  - set_value przyjmującą pozycję oraz wartość do umieszczenia we wskazanej pozycji\n",
    "  - get_value przyjmująca pozycję i zwracającą wartość znajdującą się we wskazanej pozycji\n",
    "  - is_identity zwracającą wartość logiczną informująca czy macierz w instancji jest jednostkowa\n",
    "  - wykorzystać metodę \\_\\_add\\_\\_ (https://docs.python.org/3/library/operator.html#operator.add) do stworzenia operatora pozwalającego na zsumowanie dwóch macierzy w postaci obiektów klasy Matrix\n",
    "\n",
    "6. Utworzyć klasę Time z atrybutami hours oraz minutes typu całkowitego. Utworzyć w klasie następujące metody:\n",
    "  - inicjalizator, który ustawi wartości atrybutów hours oraz minutes\n",
    "  - add_time, która przyjmie argumenty całkowitoliczbowe hours oraz minutes i doda je do wewnętrznego stanu klasy\n",
    "  - display, która zwróci bieżący stan wewnętrzny obiektu, czyli godziny i minuty\n",
    "  - display_minutes, która zwróci bieżący stan obiektu w postaci minut\n"
   ]
  },
  {
   "cell_type": "markdown",
   "metadata": {
    "id": "MERt7EyMix6v"
   },
   "source": [
    "## Iteratory\n",
    "\n",
    "Iterator jest obiektem, który przechowuje skończoną liczbę obiektów oraz można dokonać na nim iteracji za pomocą dowolnej pętli. \n",
    "\n",
    "Iteratory, podobnie jak generatory, zwracają nowe wartości po wywołaniu funkcji next na instancji. Różnica tkwi w sposobie implementacji oraz w sposobie wykonywania metod. Iterator zawiera dwie dodatkowe metody: \\_\\_iter\\_\\_(), która wywołuje się w momencie tworzenia nowego obiektu iteratora oraz metoda \\_\\_next\\_\\_(), która jest wywoływana w momencie wykorzystania funkcji next() na instancji iteratora.\n",
    "\n",
    "Stwórzmy prosty iterator, który będzie zwracał wartości zwiększane o 1 począwszy od 1."
   ]
  },
  {
   "cell_type": "code",
   "execution_count": 14,
   "metadata": {
    "id": "dydpVYmriwVt"
   },
   "outputs": [],
   "source": [
    "\n",
    "from typing import Iterator  \n",
    "\n",
    "class SimpleIterator:\n",
    "  i: int  \n",
    "\n",
    "  def __iter__(self) -> Iterator[int]:  \n",
    "    self.i = 1\n",
    "\n",
    "    return self\n",
    "\n",
    "  def __next__(self) -> int:  \n",
    "    result: int = self.i\n",
    "    self.i += 1\n",
    "\n",
    "    return result"
   ]
  },
  {
   "cell_type": "code",
   "execution_count": 17,
   "metadata": {
    "colab": {
     "base_uri": "https://localhost:8080/"
    },
    "executionInfo": {
     "elapsed": 392,
     "status": "ok",
     "timestamp": 1616507241212,
     "user": {
      "displayName": "Tomasz",
      "photoUrl": "",
      "userId": "05358483110003930735"
     },
     "user_tz": -60
    },
    "id": "b1ybTUTikwdU",
    "outputId": "d8f7f4b5-11ce-4ddf-894e-ef22702e3c93"
   },
   "outputs": [
    {
     "name": "stdout",
     "output_type": "stream",
     "text": [
      "1\n",
      "2\n",
      "3\n",
      "4\n",
      "5\n"
     ]
    }
   ],
   "source": [
    "iter_obj: SimpleIterator = SimpleIterator()  \n",
    "iterator: SimpleIterator = iter(iter_obj)  \n",
    "\n",
    "print(next(iterator))  \n",
    "print(next(iterator))\n",
    "print(next(iterator))\n",
    "print(next(iterator))\n",
    "print(next(iterator))"
   ]
  },
  {
   "cell_type": "markdown",
   "metadata": {
    "id": "1AVYsoLSLIkO"
   },
   "source": [
    "Iteratory można również wykorzystać w celu odmiennego sposobu iteracji po kontenerach danych, takich jak listy, słowniki, krotki, itd.\n",
    "\n",
    "Przykładowy iterator zwracający wartości z listy znajdujące się na pozycjach parzystych:"
   ]
  },
  {
   "cell_type": "code",
   "execution_count": 18,
   "metadata": {
    "id": "NtgeZAaCk4TL"
   },
   "outputs": [],
   "source": [
    "from typing import Iterator, List, Any  \n",
    "\n",
    "class ListEvenIterator: \n",
    "  data: List[Any]  \n",
    "  i: int  \n",
    "\n",
    "  def __init__(self, data: List[int]) -> None:  \n",
    "    self.data = data\n",
    "\n",
    "  def __iter__(self) -> Iterator[Any]:  \n",
    "    self.i = 0  \n",
    "\n",
    "    return self\n",
    "\n",
    "  def __next__(self) -> Any:  \n",
    "    position: int = self.i  \n",
    "    self.i += 2  \n",
    "\n",
    "    if position >= len(self.data) - 1:  \n",
    "      raise StopIteration  \n",
    "\n",
    "    return self.data[position]  "
   ]
  },
  {
   "cell_type": "code",
   "execution_count": 22,
   "metadata": {
    "colab": {
     "base_uri": "https://localhost:8080/"
    },
    "executionInfo": {
     "elapsed": 892,
     "status": "ok",
     "timestamp": 1616507661242,
     "user": {
      "displayName": "Tomasz",
      "photoUrl": "",
      "userId": "05358483110003930735"
     },
     "user_tz": -60
    },
    "id": "0oGUmjaDOHgu",
    "outputId": "ed683b81-0fbd-4813-f5d0-4d8e93ec62b3"
   },
   "outputs": [
    {
     "name": "stdout",
     "output_type": "stream",
     "text": [
      "jeden\n",
      "trzy\n",
      "5.0\n",
      "7\n",
      "9.0\n"
     ]
    }
   ],
   "source": [
    "li: List[Any] = ['jeden', 2, 'trzy', 'cztery', 5.0, 6, 7, 8, 9.0, 'dziesiec']  \n",
    "\n",
    "\n",
    "list_iter_obj: ListEvenIterator = ListEvenIterator(li)\n",
    "iterator: ListEvenIterator = iter(list_iter_obj)  \n",
    "\n",
    "for element in iterator:  \n",
    "  print(element)"
   ]
  },
  {
   "cell_type": "markdown",
   "metadata": {
    "id": "IzGVFyd8XXgl"
   },
   "source": [
    "## Zadania\n",
    "\n",
    "\n",
    "1. Utworzyć iterator, który będzie zwracał liczby pierwsze\n",
    "\n",
    "2. Utworzyć iterator, który przyjmie listę wartości całkowitych i dla każdego elementu będzie zwracał sumę wszystkich wartości poprzednich łącznie z wartością bieżącą\n",
    "\n",
    "3. Utworzyć iterator, który przyjmie dowolną liczbę argumentów przekazanych przez nazwę i będzie zwracał tylko te wartości argumentów, których pierwsza litera nazwy znajduje się na parzystych pozycjach alfabetu. Przykładowo: litera a znajduje się na pozycji nieparzystej (1), litera b znajduje się na pozycji parzystej (2), itd.\n",
    "\n",
    "4. Utworzyć iterator, który przyjmie dwie listy wartości całkowitych o takiej samej długości i będzie zwracał iloczyny skalarne wartości znajdujących się pozycjach poprzednich łącznie z wartością bieżącą"
   ]
  },
  {
   "cell_type": "markdown",
   "metadata": {
    "id": "V3flxYOEfuxZ"
   },
   "source": [
    "# Co dalej??\n",
    "- Klasy ciąg dalszy\n",
    "- Dziedziczenie\n",
    "- Przeciążanie metod\n",
    "- Przeciążanie operatorów\n",
    "- @property w Pythonie\n",
    "- Dekoratory\n",
    "- projekt\n",
    "\n"
   ]
  },
  {
   "cell_type": "code",
   "execution_count": null,
   "metadata": {},
   "outputs": [],
   "source": []
  }
 ],
 "metadata": {
  "colab": {
   "collapsed_sections": [],
   "name": "lab_5.ipynb",
   "provenance": []
  },
  "kernelspec": {
   "display_name": "Python 3 (ipykernel)",
   "language": "python",
   "name": "python3"
  },
  "language_info": {
   "codemirror_mode": {
    "name": "ipython",
    "version": 3
   },
   "file_extension": ".py",
   "mimetype": "text/x-python",
   "name": "python",
   "nbconvert_exporter": "python",
   "pygments_lexer": "ipython3",
   "version": "3.10.4"
  }
 },
 "nbformat": 4,
 "nbformat_minor": 1
}