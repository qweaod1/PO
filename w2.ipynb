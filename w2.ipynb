{
 "cells": [
  {
   "cell_type": "markdown",
   "metadata": {
    "id": "uskh-6kvPC67"
   },
   "source": [
    "# Podstawy języka Python: instrukcje warunkowe, iteracyjne, sterujące i kontenery danych\n",
    "\n",
    "## Lista\n",
    "\n",
    "Lista jest zmienną, w której można przechowywać wiele innych wartości. Elementami listy mogą być wszystkie dostępne typy w języku Python. Listy są modyfikowalne, co daje możliwość dodawania, usuwania oraz modyfkowania poszczególnych elementów.\n",
    "\n",
    "### Lista jednowymiarowa\n",
    "\n",
    "Pustą listę jednowymiarową definiujemy następująco:"
   ]
  },
  {
   "cell_type": "code",
   "execution_count": 1,
   "metadata": {
    "id": "c_OV3g2EO8nr"
   },
   "outputs": [],
   "source": [
    "li = []"
   ]
  },
  {
   "cell_type": "markdown",
   "metadata": {
    "id": "uMFOfpWSQ-zc"
   },
   "source": [
    "Listę można wyświetlić za pomocą funkcji print()"
   ]
  },
  {
   "cell_type": "code",
   "execution_count": 2,
   "metadata": {
    "colab": {
     "base_uri": "https://localhost:8080/"
    },
    "executionInfo": {
     "elapsed": 683,
     "status": "ok",
     "timestamp": 1614710868831,
     "user": {
      "displayName": "Tomasz",
      "photoUrl": "",
      "userId": "05358483110003930735"
     },
     "user_tz": -60
    },
    "id": "9vvvyYUFREpj",
    "outputId": "e2240cd3-2ae6-4d70-ace8-28d5e9120ed0"
   },
   "outputs": [
    {
     "name": "stdout",
     "output_type": "stream",
     "text": [
      "[]\n"
     ]
    }
   ],
   "source": [
    "print(li)"
   ]
  },
  {
   "cell_type": "markdown",
   "metadata": {
    "id": "cs8EQ9IySPRl"
   },
   "source": [
    "Można również zdefiniować listę, która będzie zawierała pewne wartości. W przypadku, gdy lista będzie zawierała wartości tylko jednego typu (str), można ją oznaczyć następująco:"
   ]
  },
  {
   "cell_type": "code",
   "execution_count": 4,
   "metadata": {
    "colab": {
     "base_uri": "https://localhost:8080/"
    },
    "executionInfo": {
     "elapsed": 553,
     "status": "ok",
     "timestamp": 1614711318815,
     "user": {
      "displayName": "Tomasz",
      "photoUrl": "",
      "userId": "05358483110003930735"
     },
     "user_tz": -60
    },
    "id": "XSsn2hJZRGOO",
    "outputId": "56d3fc48-8d1d-4c57-feb5-4747cb19dded"
   },
   "outputs": [
    {
     "name": "stdout",
     "output_type": "stream",
     "text": [
      "['jeden', 2, 'trzy']\n"
     ]
    }
   ],
   "source": [
    "from typing import List  # typ listy nalezy zaimportowac z modulu typing\n",
    "\n",
    "li: List[str] = ['jeden', 'dwa', 'trzy']  # lista zawierajaca trzy elementy typu str\n",
    "\n",
    "print(li)"
   ]
  },
  {
   "cell_type": "markdown",
   "metadata": {
    "id": "R1hKVfYmTBkj"
   },
   "source": [
    "W przypadku gdy lista będzie zawierała wartości różnych typów, do oznaczenia wartości użyjemy typu List[Any], gdzie Any jest uniwersalnym typem, który można stosować do dowolnych wartości"
   ]
  },
  {
   "cell_type": "code",
   "execution_count": 4,
   "metadata": {
    "colab": {
     "base_uri": "https://localhost:8080/"
    },
    "executionInfo": {
     "elapsed": 649,
     "status": "ok",
     "timestamp": 1614711656525,
     "user": {
      "displayName": "Tomasz",
      "photoUrl": "",
      "userId": "05358483110003930735"
     },
     "user_tz": -60
    },
    "id": "6wj8BINZS2aw",
    "outputId": "7f67914d-75e8-43ea-9a87-17d866c51a80"
   },
   "outputs": [
    {
     "name": "stdout",
     "output_type": "stream",
     "text": [
      "[1, 'dwa', 3, 'cztery']\n"
     ]
    }
   ],
   "source": [
    "from typing import List, Any  # typ Any\n",
    "\n",
    "li: List[Any] = [1, 'dwa', 3, 'cztery']\n",
    "\n",
    "print(li)"
   ]
  },
  {
   "cell_type": "markdown",
   "metadata": {
    "id": "OUCmmgNLULpO"
   },
   "source": [
    "### Lista dwuwymiarowa\n",
    "\n",
    "W liście dwuwymiarowej każdy element listy jest kolejną listą zawierającą właściwe wartości. "
   ]
  },
  {
   "cell_type": "code",
   "execution_count": 5,
   "metadata": {
    "colab": {
     "base_uri": "https://localhost:8080/"
    },
    "executionInfo": {
     "elapsed": 593,
     "status": "ok",
     "timestamp": 1614711999686,
     "user": {
      "displayName": "Tomasz",
      "photoUrl": "",
      "userId": "05358483110003930735"
     },
     "user_tz": -60
    },
    "id": "FZ-fyVQTUI16",
    "outputId": "58c27fb0-48bb-44c0-c7b4-22e8587e9e77"
   },
   "outputs": [
    {
     "name": "stdout",
     "output_type": "stream",
     "text": [
      "[[1, 2, 3], [4, 5, 6], [7, 8, 9]]\n"
     ]
    }
   ],
   "source": [
    "from typing import List\n",
    "\n",
    "# kazdy element listy bedzie wierszem macierzy zawierajacym wartosci liczbowe\n",
    "li_2d: List[List[int]] = [\n",
    "                          [1, 2, 3],\n",
    "                          [4, 5, 6],\n",
    "                          [7, 8, 9],\n",
    "]\n",
    "\n",
    "print(li_2d)"
   ]
  },
  {
   "cell_type": "markdown",
   "metadata": {
    "id": "KU-gg0qEVfJS"
   },
   "source": [
    "### Lista trójwymiarowa\n",
    "\n",
    "Każdy element listy trójwymiarowej jest listą dwuwymiarową"
   ]
  },
  {
   "cell_type": "code",
   "execution_count": 6,
   "metadata": {
    "colab": {
     "base_uri": "https://localhost:8080/"
    },
    "executionInfo": {
     "elapsed": 604,
     "status": "ok",
     "timestamp": 1614712175790,
     "user": {
      "displayName": "Tomasz",
      "photoUrl": "",
      "userId": "05358483110003930735"
     },
     "user_tz": -60
    },
    "id": "2XdFD7G-Vcn0",
    "outputId": "c164b54d-d9ee-4c5f-b3dd-d1f497c458a6"
   },
   "outputs": [
    {
     "name": "stdout",
     "output_type": "stream",
     "text": [
      "[[[1, 2, 3], [4, 5, 6], [7, 8, 9]], [[11, 12, 13], [14, 15, 16], [17, 18, 19]]]\n"
     ]
    }
   ],
   "source": [
    "from typing import List\n",
    "\n",
    "# kazdy element tej listy jest lista 2D\n",
    "li_3d: List[List[List[int]]] = [\n",
    "                                [\n",
    "                                 [1, 2, 3],\n",
    "                                 [4, 5, 6],\n",
    "                                 [7, 8, 9],\n",
    "                                ],\n",
    "                                [\n",
    "                                 [11, 12, 13],\n",
    "                                 [14, 15, 16],\n",
    "                                 [17, 18, 19],\n",
    "                                ]\n",
    "]\n",
    "\n",
    "print(li_3d)"
   ]
  },
  {
   "cell_type": "markdown",
   "metadata": {
    "id": "7MiSGUJmWeCt"
   },
   "source": [
    "### Sprawdzanie długości list\n",
    "\n",
    "Długość listy można najprościej sprawdzić za pomocą funkcji len() - podobnie jak ciąg znaków"
   ]
  },
  {
   "cell_type": "code",
   "execution_count": 7,
   "metadata": {
    "colab": {
     "base_uri": "https://localhost:8080/"
    },
    "executionInfo": {
     "elapsed": 624,
     "status": "ok",
     "timestamp": 1614712416442,
     "user": {
      "displayName": "Tomasz",
      "photoUrl": "",
      "userId": "05358483110003930735"
     },
     "user_tz": -60
    },
    "id": "eEne0r4dWHnZ",
    "outputId": "c21c505d-0f93-4dfd-e105-e38b6567be0b"
   },
   "outputs": [
    {
     "name": "stdout",
     "output_type": "stream",
     "text": [
      "5\n"
     ]
    }
   ],
   "source": [
    "from typing import List\n",
    "\n",
    "li_1d: List[int] = [1, 2, 3, 4, 5]\n",
    "\n",
    "print(len(li_1d))"
   ]
  },
  {
   "cell_type": "markdown",
   "metadata": {
    "id": "3efE42C1XEls"
   },
   "source": [
    "Długość listy dwuwymiarowej można sprawdzić stosując funkcję len() do każdego wymiaru"
   ]
  },
  {
   "cell_type": "code",
   "execution_count": 4,
   "metadata": {
    "colab": {
     "base_uri": "https://localhost:8080/"
    },
    "executionInfo": {
     "elapsed": 606,
     "status": "ok",
     "timestamp": 1614712634748,
     "user": {
      "displayName": "Tomasz",
      "photoUrl": "",
      "userId": "05358483110003930735"
     },
     "user_tz": -60
    },
    "id": "KNMeQ4hVXCYY",
    "outputId": "6029e74d-6c93-43dc-b518-d8ca787972ab"
   },
   "outputs": [
    {
     "name": "stdout",
     "output_type": "stream",
     "text": [
      "Liczba wierszy: 2, liczba kolumn: 3\n"
     ]
    }
   ],
   "source": [
    "from typing import List\n",
    "\n",
    "li_2d: List[List[int]] = [\n",
    "                          [1, 2, 3],\n",
    "                          [4, 5, 6],\n",
    "]\n",
    "\n",
    "print(f'Liczba wierszy: {len(li_2d)}, liczba kolumn: {len(li_2d[0])}')  # liczbe kolumn sprawdzamy w dowolnym wierszu - tutaj w pierwszym"
   ]
  },
  {
   "cell_type": "markdown",
   "metadata": {
    "id": "nJ4wTEzEX5Jp"
   },
   "source": [
    "Analogicznie można postąpić w przypadku listy trójwymiarowej, czterowymiarowej, itd...\n",
    "\n",
    "### Dodawanie nowych elementów do listy\n",
    "\n",
    "Do dodawania nowych elementów na końcu listy służy metoda append()"
   ]
  },
  {
   "cell_type": "code",
   "execution_count": 8,
   "metadata": {
    "colab": {
     "base_uri": "https://localhost:8080/"
    },
    "executionInfo": {
     "elapsed": 722,
     "status": "ok",
     "timestamp": 1614712857791,
     "user": {
      "displayName": "Tomasz",
      "photoUrl": "",
      "userId": "05358483110003930735"
     },
     "user_tz": -60
    },
    "id": "ERnAHvlkX3rq",
    "outputId": "a68ac309-9a36-4b62-f4ea-5ad810d682af"
   },
   "outputs": [
    {
     "name": "stdout",
     "output_type": "stream",
     "text": [
      "przed dodaniem: [1.5, 2.5, 3.5]\n",
      "po dodaniu: [1.5, 2.5, 3.5, 4.5]\n"
     ]
    }
   ],
   "source": [
    "from typing import List\n",
    "\n",
    "li_1d: List[float] = [1.5, 2.5, 3.5]  # tworzymy nowa liste z trzema elementami\n",
    "print(f'przed dodaniem: {li_1d}')\n",
    "\n",
    "li_1d.append(4.5)  # dodajemy nową wartość 4.5 na końcu listy\n",
    "print(f'po dodaniu: {li_1d}')"
   ]
  },
  {
   "cell_type": "markdown",
   "metadata": {
    "id": "IGRFyNA0YvXQ"
   },
   "source": [
    "W listach dwuwymiarowych również można dodawać nowe wartości i nowe wiersze"
   ]
  },
  {
   "cell_type": "code",
   "execution_count": 11,
   "metadata": {
    "colab": {
     "base_uri": "https://localhost:8080/"
    },
    "executionInfo": {
     "elapsed": 588,
     "status": "ok",
     "timestamp": 1614713086149,
     "user": {
      "displayName": "Tomasz",
      "photoUrl": "",
      "userId": "05358483110003930735"
     },
     "user_tz": -60
    },
    "id": "WyIgjyNsYcKr",
    "outputId": "665123e3-c18c-4326-b97c-6685b4878eaa"
   },
   "outputs": [
    {
     "name": "stdout",
     "output_type": "stream",
     "text": [
      "[[1, 2, 3], [4, 5, 6], [7, 8, 9], [10, 11, 12]]\n"
     ]
    }
   ],
   "source": [
    "from typing import List\n",
    "\n",
    "# definiujemy prosta liste 2D\n",
    "li_2d: List[List[int]] = [\n",
    "                          [1, 2, 3],\n",
    "                          [4, 5, 6],\n",
    "                          [7, 8, 9],\n",
    "]\n",
    "\n",
    "li_2d.append([10, 11, 12])  # dodajemy na koncu nowy wiersz\n",
    "\n",
    "print(li_2d)"
   ]
  },
  {
   "cell_type": "markdown",
   "metadata": {
    "id": "x3Z5LAg1aEOk"
   },
   "source": [
    "### Usuwanie elementów\n",
    "\n",
    "Do usuwania elementów z list służy instrukcja **del**, która nie jest funkcją"
   ]
  },
  {
   "cell_type": "code",
   "execution_count": 8,
   "metadata": {
    "colab": {
     "base_uri": "https://localhost:8080/"
    },
    "executionInfo": {
     "elapsed": 598,
     "status": "ok",
     "timestamp": 1614713311430,
     "user": {
      "displayName": "Tomasz",
      "photoUrl": "",
      "userId": "05358483110003930735"
     },
     "user_tz": -60
    },
    "id": "tU6VzhmUZksG",
    "outputId": "a4980e7d-7055-4003-855d-a58b53a1aed4"
   },
   "outputs": [
    {
     "name": "stdout",
     "output_type": "stream",
     "text": [
      "przed usunieciem: [1.5, 2.5, 3.5, 4.5, 5.5]\n",
      "po usunieciu: [1.5, 3.5, 4.5, 5.5]\n"
     ]
    }
   ],
   "source": [
    "from typing import List\n",
    "\n",
    "li_1d: List[float] = [1.5, 2.5, 3.5, 4.5, 5.5]  # tworzymy nowa liste z piecioma elementami\n",
    "print(f'przed usunieciem: {li_1d}')\n",
    "\n",
    "del li_1d[1]  # usuwamy drugi element wskazujac indeks 1, podobnie jak odwolujac sie do wartosci elementu\n",
    "print(f'po usunieciu: {li_1d}')"
   ]
  },
  {
   "cell_type": "markdown",
   "metadata": {
    "id": "as7ZUNKba3Nr"
   },
   "source": [
    "W podobny sposób można usuwać wartości z listy dwuwymiarowej"
   ]
  },
  {
   "cell_type": "code",
   "execution_count": 14,
   "metadata": {
    "colab": {
     "base_uri": "https://localhost:8080/"
    },
    "executionInfo": {
     "elapsed": 1076,
     "status": "ok",
     "timestamp": 1614713994079,
     "user": {
      "displayName": "Tomasz",
      "photoUrl": "",
      "userId": "05358483110003930735"
     },
     "user_tz": -60
    },
    "id": "ozcUPUgbac46",
    "outputId": "a81f4531-c637-4d40-d13f-54a78ab60b1c"
   },
   "outputs": [
    {
     "name": "stdout",
     "output_type": "stream",
     "text": [
      "przed usunieciem pierwszego wiersza [[1, 2, 3], [4, 5, 6], [7, 8, 9]]\n",
      "przed usunieciem pierwszego wiersza [[4, 5, 6], [7, 8, 9]]\n",
      "Po usunieciu calosci []\n"
     ]
    }
   ],
   "source": [
    "from typing import List\n",
    "\n",
    "# definiujemy prosta liste 2D\n",
    "li_2d: List[List[int]] = [\n",
    "                          [1, 2, 3],\n",
    "                          [4, 5, 6],\n",
    "                          [7, 8, 9],\n",
    "]\n",
    "print(f'przed usunieciem pierwszego wiersza {li_2d}')\n",
    "\n",
    "del li_2d[0]  # usuwamy pierwszy wiersz wskazujac jego indeks\n",
    "print(f'przed usunieciem pierwszego wiersza {li_2d}')\n",
    "del li_2d[:]\n",
    "print(f'Po usunieciu calosci {li_2d}')"
   ]
  },
  {
   "cell_type": "markdown",
   "metadata": {
    "id": "At1JYqbmdVIT"
   },
   "source": [
    "### Pobieranie elementów listy na wyznaczonych pozycjach\n",
    "\n",
    "Odwołanie się do elementu listy na wskazanej pozycji spowoduje zwrócenie jego wartości\n",
    "\n",
    "\n",
    "\n"
   ]
  },
  {
   "cell_type": "code",
   "execution_count": 6,
   "metadata": {
    "colab": {
     "base_uri": "https://localhost:8080/"
    },
    "executionInfo": {
     "elapsed": 594,
     "status": "ok",
     "timestamp": 1614714263789,
     "user": {
      "displayName": "Tomasz",
      "photoUrl": "",
      "userId": "05358483110003930735"
     },
     "user_tz": -60
    },
    "id": "V6JkcevCdDai",
    "outputId": "4ce1e35d-0c68-4a9a-cec1-bac6dd9ed8a4"
   },
   "outputs": [
    {
     "name": "stdout",
     "output_type": "stream",
     "text": [
      "2.5\n"
     ]
    }
   ],
   "source": [
    "from typing import List\n",
    "\n",
    "li_1d: List[float] = [1.5, 2.5, 3.5, 4.5, 5.5]  # tworzymy nowa liste z piecioma elementami\n",
    "\n",
    "print(li_1d[1])  # wyswietlamy element znajdujacy sie na drugiej pozycji listy, czyli jest oznaczony indeksem 1"
   ]
  },
  {
   "cell_type": "markdown",
   "metadata": {
    "id": "ZUbIDU9HeH30"
   },
   "source": [
    "W celu odwołania się do wartości elementu listy wieowymiarowej należy wskazać jego pozycję w każdym wymiarze"
   ]
  },
  {
   "cell_type": "code",
   "execution_count": 14,
   "metadata": {
    "colab": {
     "base_uri": "https://localhost:8080/"
    },
    "executionInfo": {
     "elapsed": 522,
     "status": "ok",
     "timestamp": 1614714392033,
     "user": {
      "displayName": "Tomasz",
      "photoUrl": "",
      "userId": "05358483110003930735"
     },
     "user_tz": -60
    },
    "id": "Wdr5kmCveEfH",
    "outputId": "86783356-7585-472d-8b8c-2966cfefa805"
   },
   "outputs": [
    {
     "name": "stdout",
     "output_type": "stream",
     "text": [
      "6\n"
     ]
    }
   ],
   "source": [
    "from typing import List\n",
    "\n",
    "# definiujemy prosta liste 2D\n",
    "li_2d: List[List[int]] = [\n",
    "                          [1, 2, 3],\n",
    "                          [4, 5, 6],\n",
    "                          [7, 8, 9],\n",
    "]\n",
    "\n",
    "print(li_2d[1][2])  # odwolujemy sie do drugiego wiersza (indeks 1) i trzeciej kolumny (indeks 2)"
   ]
  },
  {
   "cell_type": "markdown",
   "metadata": {
    "id": "ijWPaohZfM8Q"
   },
   "source": [
    "### Łączenie list\n",
    "\n",
    "Łączenie list polega na utworzeniu nowej listy zawierającej wszystkie elementy z listy składowych. Operacji połączenia list można dokonać za pomocą operatora +"
   ]
  },
  {
   "cell_type": "code",
   "execution_count": 15,
   "metadata": {
    "colab": {
     "base_uri": "https://localhost:8080/"
    },
    "executionInfo": {
     "elapsed": 607,
     "status": "ok",
     "timestamp": 1614714749736,
     "user": {
      "displayName": "Tomasz",
      "photoUrl": "",
      "userId": "05358483110003930735"
     },
     "user_tz": -60
    },
    "id": "sCwxP7rAekuX",
    "outputId": "a4454524-a6fb-4fe8-bf46-1357f9789a7a"
   },
   "outputs": [
    {
     "name": "stdout",
     "output_type": "stream",
     "text": [
      "[1, 2, 3, 'cztery', 'piec', 'szesc']\n",
      "['cztery', 'piec', 'szesc', 1, 2, 3]\n"
     ]
    }
   ],
   "source": [
    "from typing import List, Any\n",
    "\n",
    "li_0: List[int] = [1, 2, 3]  # tworzymy liste wartosci calkowitych\n",
    "li_1: List[str] = ['cztery', 'piec', \"szesc\"]  # tworzymy liste wartosci tekstowych\n",
    "\n",
    "li_new: List[Any] = li_0 + li_1  # nowa lista zawiera wartosci zarowno calkowite jak i tekstowe wiec jest oznaczona typem ogolnym Any\n",
    "li_new_2: List[Any] = li_1 + li_0 \n",
    "print(li_new)\n",
    "print(li_new_2)"
   ]
  },
  {
   "cell_type": "markdown",
   "metadata": {
    "id": "u8hO9QcMgL2l"
   },
   "source": [
    "Podobną procedurę można zastosować przy łączeniu list dwuwymiarowych, gdzie wszystkie elementy zostaną połączone na poziomie wierszy"
   ]
  },
  {
   "cell_type": "code",
   "execution_count": 16,
   "metadata": {
    "colab": {
     "base_uri": "https://localhost:8080/"
    },
    "executionInfo": {
     "elapsed": 525,
     "status": "ok",
     "timestamp": 1614715004413,
     "user": {
      "displayName": "Tomasz",
      "photoUrl": "",
      "userId": "05358483110003930735"
     },
     "user_tz": -60
    },
    "id": "ujg5I7Zvf8A8",
    "outputId": "e5fa1e13-3436-49d0-9d76-bbd8abd94acd"
   },
   "outputs": [
    {
     "name": "stdout",
     "output_type": "stream",
     "text": [
      "[[1, 2, 3], [4, 5, 6], [7, 8, 9], [11.1, 12.1, 13.1], [14.1, 15.1, 16.1], [17.1, 18.1, 19.1]]\n"
     ]
    }
   ],
   "source": [
    "from typing import List\n",
    "\n",
    "# definiujemy liste 2D wartosci calkowitych\n",
    "li_0: List[List[int]] = [\n",
    "                          [1, 2, 3],\n",
    "                          [4, 5, 6],\n",
    "                          [7, 8, 9],\n",
    "]\n",
    "\n",
    "# definiujemy liste 2D wartosci rzeczywistych\n",
    "li_1: List[List[float]] = [\n",
    "                          [11.1, 12.1, 13.1],\n",
    "                          [14.1, 15.1, 16.1],\n",
    "                          [17.1, 18.1, 19.1],\n",
    "]\n",
    "\n",
    "# nowa lista zawiera wiersze zarowno z li_0, jak i z li_1, jest oznaczona typem Any gdyz zawiera wartosci calkowite i rzeczywiste\n",
    "li_new: List[Any] = li_0 + li_1\n",
    "\n",
    "print(li_new)"
   ]
  },
  {
   "cell_type": "code",
   "execution_count": 12,
   "metadata": {},
   "outputs": [
    {
     "name": "stdout",
     "output_type": "stream",
     "text": [
      "[0, 2, 4, 6, 8, 10, 12, 14, 16, 18, 20]\n"
     ]
    }
   ],
   "source": [
    "lista = []\n",
    "\n",
    "for i in range(0, 21, 2):\n",
    "    lista.append(i)\n",
    "    \n",
    "print(lista)\n",
    "    "
   ]
  },
  {
   "cell_type": "markdown",
   "metadata": {
    "id": "fls-6GuO04Zs"
   },
   "source": [
    "### Sprawdzenie czy element znajduje się w liście\n",
    "\n",
    "W tym celu użyjemy instrukcji **in**\n",
    "\n",
    "Sprawdźmy czy w liście liczb całkowitych znajduje się pewna wartość"
   ]
  },
  {
   "cell_type": "code",
   "execution_count": 19,
   "metadata": {
    "colab": {
     "base_uri": "https://localhost:8080/"
    },
    "executionInfo": {
     "elapsed": 719,
     "status": "ok",
     "timestamp": 1614720390593,
     "user": {
      "displayName": "Tomasz",
      "photoUrl": "",
      "userId": "05358483110003930735"
     },
     "user_tz": -60
    },
    "id": "06ZCp1a91J1y",
    "outputId": "f6a2912c-fcc2-47ae-a250-3144b64d0e03"
   },
   "outputs": [
    {
     "name": "stdout",
     "output_type": "stream",
     "text": [
      "[1, 11, 21, 31, 41, 51]\n",
      "True\n"
     ]
    }
   ],
   "source": [
    "from typing import List\n",
    "\n",
    "li: List[int] = [1, 11, 21, 31, 41, 51]  # lista wartosci calkowitych\n",
    "print(li)\n",
    "\n",
    "print(11 in li)  # wyswietlamy wartosc logiczna informujaca czy liczba 11 znajduje sie w liscie"
   ]
  },
  {
   "cell_type": "markdown",
   "metadata": {
    "id": "_2ojv1Ekg869"
   },
   "source": [
    "## Krotka (tuple)\n",
    "\n",
    "Krotka (podobnie jak lista) jest zmienną, w której można przechowywać wiele wartości. Krotka jest jednak niezmienna - nie można jej modyfikować.\n",
    "\n",
    "Stwórzmy krotkę zawierającą wartości całkowite"
   ]
  },
  {
   "cell_type": "code",
   "execution_count": 13,
   "metadata": {
    "colab": {
     "base_uri": "https://localhost:8080/"
    },
    "executionInfo": {
     "elapsed": 540,
     "status": "ok",
     "timestamp": 1614715548859,
     "user": {
      "displayName": "Tomasz",
      "photoUrl": "",
      "userId": "05358483110003930735"
     },
     "user_tz": -60
    },
    "id": "zjePzJ85gkDW",
    "outputId": "d81fac5d-9323-4791-c527-5751961bd231"
   },
   "outputs": [
    {
     "name": "stdout",
     "output_type": "stream",
     "text": [
      "()\n",
      "(1, 2, 5, 8)\n"
     ]
    }
   ],
   "source": [
    "from typing import Tuple  # import typu Tuple (krotki) z modulu typing\n",
    "\n",
    "tup = ()\n",
    "print(tup)\n",
    "\n",
    "tup: Tuple[int] = (1, 2, 5, 8)  # krotka wypelniona wartosciami calkowitymi\n",
    "\n",
    "print(tup)"
   ]
  },
  {
   "cell_type": "markdown",
   "metadata": {
    "id": "RafdZV6jjCSn"
   },
   "source": [
    "Podobnie jak w przypadku list, można również tworzyć krotki wielowymiarowe"
   ]
  },
  {
   "cell_type": "code",
   "execution_count": 19,
   "metadata": {
    "colab": {
     "base_uri": "https://localhost:8080/"
    },
    "executionInfo": {
     "elapsed": 607,
     "status": "ok",
     "timestamp": 1614715723491,
     "user": {
      "displayName": "Tomasz",
      "photoUrl": "",
      "userId": "05358483110003930735"
     },
     "user_tz": -60
    },
    "id": "fEPygT2Xi_Je",
    "outputId": "84398621-886f-4a3a-f369-7fcc78caffa7"
   },
   "outputs": [
    {
     "name": "stdout",
     "output_type": "stream",
     "text": [
      "((1.2, 2.2, 3.2), (4.2, 5.2, 6.2), (7.2, 8.2, 9.2))\n"
     ]
    }
   ],
   "source": [
    "from typing import Tuple\n",
    "\n",
    "# krotka 2D z wartosciami typu rzeczywistego\n",
    "tup_2d: Tuple[Tuple[float]] = (\n",
    "    (1.2, 2.2, 3.2),\n",
    "    (4.2, 5.2, 6.2),\n",
    "    (7.2, 8.2, 9.2),\n",
    ")\n",
    "\n",
    "print(tup_2d)"
   ]
  },
  {
   "cell_type": "markdown",
   "metadata": {
    "id": "M9fT4winjr3N"
   },
   "source": [
    "Za pomocą funkcji len() można również sprawdzić długość krotki w każdym wymiarze"
   ]
  },
  {
   "cell_type": "code",
   "execution_count": 20,
   "metadata": {
    "colab": {
     "base_uri": "https://localhost:8080/"
    },
    "executionInfo": {
     "elapsed": 514,
     "status": "ok",
     "timestamp": 1614715824176,
     "user": {
      "displayName": "Tomasz",
      "photoUrl": "",
      "userId": "05358483110003930735"
     },
     "user_tz": -60
    },
    "id": "X8LvNr0ejpxE",
    "outputId": "e615f354-7f67-439e-ce0d-3fce69911eb6"
   },
   "outputs": [
    {
     "name": "stdout",
     "output_type": "stream",
     "text": [
      "4\n"
     ]
    }
   ],
   "source": [
    "from typing import Tuple\n",
    "\n",
    "tup: Tuple[int] = (1, 2, 5, 8)  # krotka z wartosciami calkowitymi\n",
    "\n",
    "print(len(tup))"
   ]
  },
  {
   "cell_type": "markdown",
   "metadata": {
    "id": "XuSu1kKOkKEr"
   },
   "source": [
    "Istnieje również możliwość łączenia krotek"
   ]
  },
  {
   "cell_type": "code",
   "execution_count": 21,
   "metadata": {
    "colab": {
     "base_uri": "https://localhost:8080/"
    },
    "executionInfo": {
     "elapsed": 474,
     "status": "ok",
     "timestamp": 1614715982291,
     "user": {
      "displayName": "Tomasz",
      "photoUrl": "",
      "userId": "05358483110003930735"
     },
     "user_tz": -60
    },
    "id": "QnOMmsPckCXX",
    "outputId": "7667f287-bc0a-4593-9aa2-5d89a7098a49"
   },
   "outputs": [
    {
     "name": "stdout",
     "output_type": "stream",
     "text": [
      "10\n"
     ]
    }
   ],
   "source": [
    "from typing import Tuple\n",
    "\n",
    "tup_0: Tuple[int] = (1, 2, 5, 8)\n",
    "tup_1: Tuple[int] = (10, 11, 12)\n",
    "\n",
    "# laczymy dwie krotki zawierajace liczby calkowite wiec nowa krotka rowniez bedzie oznaczona typem calkowitym\n",
    "tuple_new: Tuple[int] = tup_0 + tup_1\n",
    "\n",
    "print(tuple_new)"
   ]
  },
  {
   "cell_type": "markdown",
   "metadata": {
    "id": "U4sPeh6ykxNZ"
   },
   "source": [
    "## Słownik\n",
    "\n",
    "Słownik to kolekcja par (klucz, wartość). Stwórzmy nowy pusty słownik\n"
   ]
  },
  {
   "cell_type": "code",
   "execution_count": 8,
   "metadata": {
    "colab": {
     "base_uri": "https://localhost:8080/"
    },
    "executionInfo": {
     "elapsed": 479,
     "status": "ok",
     "timestamp": 1614716341231,
     "user": {
      "displayName": "Tomasz",
      "photoUrl": "",
      "userId": "05358483110003930735"
     },
     "user_tz": -60
    },
    "id": "mwB4gq4Eko-1",
    "outputId": "33597827-fdd2-4217-85b8-9ecf043646ec"
   },
   "outputs": [
    {
     "name": "stdout",
     "output_type": "stream",
     "text": [
      "{}\n",
      "{}\n"
     ]
    }
   ],
   "source": [
    "di = {}\n",
    "dict_2 = dict()\n",
    "print(di)\n",
    "print(dict_2)"
   ]
  },
  {
   "cell_type": "markdown",
   "metadata": {
    "id": "5dTl-QuKmB0x"
   },
   "source": [
    "Słownik można oznaczyć typem Dict zaimportowanym z modułu typing. Stwórzmy nowy słownik, w którym klucz będzie typu całkowitego, a wartość typu tekstowego"
   ]
  },
  {
   "cell_type": "code",
   "execution_count": 23,
   "metadata": {
    "colab": {
     "base_uri": "https://localhost:8080/"
    },
    "executionInfo": {
     "elapsed": 559,
     "status": "ok",
     "timestamp": 1614716464177,
     "user": {
      "displayName": "Tomasz",
      "photoUrl": "",
      "userId": "05358483110003930735"
     },
     "user_tz": -60
    },
    "id": "7jeQs7uNmAnJ",
    "outputId": "0a12afdd-10da-42d8-e323-7497f1709782"
   },
   "outputs": [
    {
     "name": "stdout",
     "output_type": "stream",
     "text": [
      "{1: 'jeden', 2: 'dwa', 3: 'trzy'}\n"
     ]
    }
   ],
   "source": [
    "from typing import Dict  # Dict jest typem slownika zaimportowanym z modulu typing\n",
    "\n",
    "# tworzymy nowy slownik wypelniony parami, gdzie klucz jest typu int, a wartosc typu str\n",
    "di: Dict[int, str] = {\n",
    "    1: 'jeden',\n",
    "    2: 'dwa',\n",
    "    3: 'trzy',\n",
    "}\n",
    "\n",
    "print(di)"
   ]
  },
  {
   "cell_type": "markdown",
   "metadata": {
    "id": "k-UUg4semgi-"
   },
   "source": [
    "Klucze i wartości w słownikach mogą mieć różne typy danych, które można oznaczyć typem ogólnym Any"
   ]
  },
  {
   "cell_type": "code",
   "execution_count": 24,
   "metadata": {
    "colab": {
     "base_uri": "https://localhost:8080/"
    },
    "executionInfo": {
     "elapsed": 657,
     "status": "ok",
     "timestamp": 1614716772424,
     "user": {
      "displayName": "Tomasz",
      "photoUrl": "",
      "userId": "05358483110003930735"
     },
     "user_tz": -60
    },
    "id": "1SuNZtXJmdYp",
    "outputId": "ccbb50c5-6887-43a5-fd24-4c55cc4ea046"
   },
   "outputs": [
    {
     "name": "stdout",
     "output_type": "stream",
     "text": [
      "{1: 'jeden', 'dwa': 2}\n"
     ]
    }
   ],
   "source": [
    "from typing import Dict, Any\n",
    "\n",
    "# tworzymy nowy slownik wypelniony parami, gdzie zarowno klucz jak i wartosc moga przyjmowac rozne typy\n",
    "di: Dict[Any, Any] = {\n",
    "    1: 'jeden',\n",
    "    'dwa': 2,\n",
    "}\n",
    "\n",
    "print(di)"
   ]
  },
  {
   "cell_type": "markdown",
   "metadata": {
    "id": "V9i0iAIYncHu"
   },
   "source": [
    "### Pobieranie wartości ze słowników\n",
    "\n",
    "Pobieranie wartości ze słowników jest podobne do pobierania wartości elementów z list. Różnica polega na wskazaniu klucza zamiast pozycji elementu"
   ]
  },
  {
   "cell_type": "code",
   "execution_count": 17,
   "metadata": {
    "colab": {
     "base_uri": "https://localhost:8080/"
    },
    "executionInfo": {
     "elapsed": 609,
     "status": "ok",
     "timestamp": 1614716904344,
     "user": {
      "displayName": "Tomasz",
      "photoUrl": "",
      "userId": "05358483110003930735"
     },
     "user_tz": -60
    },
    "id": "XXso8WfZmqhI",
    "outputId": "b47d334c-1995-416e-a045-008ff22ecb5a"
   },
   "outputs": [
    {
     "name": "stdout",
     "output_type": "stream",
     "text": [
      "dwa\n",
      "False\n"
     ]
    }
   ],
   "source": [
    "from typing import Dict\n",
    "\n",
    "di: Dict[str, str] = {\n",
    "    'one': 'jeden',\n",
    "    'two': 'dwa',\n",
    "    'three': 'trzy',\n",
    "}\n",
    "\n",
    "print(di['two'])  # wskazujemy klucz two celem pobrania przypisanej wartosci\n",
    "print('trzy' in di)"
   ]
  },
  {
   "cell_type": "markdown",
   "metadata": {
    "id": "mFDNj9-8oK9f"
   },
   "source": [
    "### Dodawanie nowych par do słowników\n",
    "\n",
    "Dodawanie nowych par do słowników polega na odwołaniu się do klucza, który nie istnieje i przypisaniu nowej wartości"
   ]
  },
  {
   "cell_type": "code",
   "execution_count": 22,
   "metadata": {
    "colab": {
     "base_uri": "https://localhost:8080/"
    },
    "executionInfo": {
     "elapsed": 501,
     "status": "ok",
     "timestamp": 1614717217322,
     "user": {
      "displayName": "Tomasz",
      "photoUrl": "",
      "userId": "05358483110003930735"
     },
     "user_tz": -60
    },
    "id": "XEb86pOZoELA",
    "outputId": "2a101fe0-3395-4522-a201-b4cf1af80b9c"
   },
   "outputs": [
    {
     "name": "stdout",
     "output_type": "stream",
     "text": [
      "Przed dodaniem nowego klucza: {'one': 'jeden', 'two': 'dwa', 'three': 'trzy'}\n",
      "Po dodaniu nowego klucza: {'one': 'jeden', 'two': 'dwa', 'three': 'trzy', 'four': 'cztery'}\n"
     ]
    }
   ],
   "source": [
    "from typing import Dict\n",
    "\n",
    "di: Dict[str, str] = {\n",
    "    'one': 'jeden',\n",
    "    'two': 'dwa',\n",
    "    'three': 'trzy',\n",
    "}\n",
    "print(f'Przed dodaniem nowego klucza: {di}')\n",
    "\n",
    "di['four'] = 'cztery'  # odwolujemy sie do klucza four (ktory jeszcze nie istnieje) i przypisujemy mu wartosc 'cztery'\n",
    "print(f'Po dodaniu nowego klucza: {di}')\n"
   ]
  },
  {
   "cell_type": "markdown",
   "metadata": {
    "id": "rGwDNwK7pakm"
   },
   "source": [
    "### Modyfikacja wartości w słownikach\n",
    "\n",
    "Modyfikacja wartości w słownikach jest bardzo podobna do dodawania nowych par. Różnica polega na odwołaniu się do istniejącego klucza i przypisaniu mu nowej wartości"
   ]
  },
  {
   "cell_type": "code",
   "execution_count": 27,
   "metadata": {
    "colab": {
     "base_uri": "https://localhost:8080/"
    },
    "executionInfo": {
     "elapsed": 554,
     "status": "ok",
     "timestamp": 1614717343253,
     "user": {
      "displayName": "Tomasz",
      "photoUrl": "",
      "userId": "05358483110003930735"
     },
     "user_tz": -60
    },
    "id": "NIjKbSYTpWfn",
    "outputId": "01ea7d2b-0118-4f6d-e24f-07c0e46da724"
   },
   "outputs": [
    {
     "name": "stdout",
     "output_type": "stream",
     "text": [
      "Przed modyfikacja wartosci: {'one': 'jeden', 'two': 'dwa', 'three': 'trzy'}\n",
      "Po modyfikacji wartosci: {'one': 'jeden', 'two': 'dwa', 'three': '3'}\n"
     ]
    }
   ],
   "source": [
    "from typing import Dict\n",
    "\n",
    "di: Dict[str, str] = {\n",
    "    'one': 'jeden',\n",
    "    'two': 'dwa',\n",
    "    'three': 'trzy',\n",
    "}\n",
    "print(f'Przed modyfikacja wartosci: {di}')\n",
    "\n",
    "di['three'] = '3'\n",
    "print(f'Po modyfikacji wartosci: {di}')"
   ]
  },
  {
   "cell_type": "markdown",
   "metadata": {
    "id": "YmoZHVhap6Ba"
   },
   "source": [
    "### Usuwanie par w słowniku\n",
    "\n",
    "Usuwanie par w słowniku odbywa się za pomocą instrukcji **del** - podobnie jak w przypadku listy. W tym celu należy odwołać się do klucza, który zostanie usunięty wraz z przypisaną mu wartością"
   ]
  },
  {
   "cell_type": "code",
   "execution_count": 28,
   "metadata": {
    "colab": {
     "base_uri": "https://localhost:8080/"
    },
    "executionInfo": {
     "elapsed": 1172,
     "status": "ok",
     "timestamp": 1614717494076,
     "user": {
      "displayName": "Tomasz",
      "photoUrl": "",
      "userId": "05358483110003930735"
     },
     "user_tz": -60
    },
    "id": "SYkx16m9p1OY",
    "outputId": "3f23ab3b-f2b5-4513-db10-c376c0aecfd4"
   },
   "outputs": [
    {
     "name": "stdout",
     "output_type": "stream",
     "text": [
      "Przed usunieciem: {'one': 'jeden', 'two': 'dwa', 'three': 'trzy'}\n",
      "Po usunieciu: {'one': 'jeden', 'three': 'trzy'}\n"
     ]
    }
   ],
   "source": [
    "from typing import Dict\n",
    "\n",
    "di: Dict[str, str] = {\n",
    "    'one': 'jeden',\n",
    "    'two': 'dwa',\n",
    "    'three': 'trzy',\n",
    "}\n",
    "print(f'Przed usunieciem: {di}')\n",
    "\n",
    "del di['two']  # usuwamy pare, ktora jest oznaczona kluczem 'two'\n",
    "print(f'Po usunieciu: {di}')"
   ]
  },
  {
   "cell_type": "markdown",
   "metadata": {
    "id": "_gNiGStYqbWk"
   },
   "source": [
    "### Długość słownika\n",
    "\n",
    "Za pomocą funkcji len() można sprawdzić długość słownika, czyli liczbę par, która się w nim znajduje"
   ]
  },
  {
   "cell_type": "code",
   "execution_count": 29,
   "metadata": {
    "colab": {
     "base_uri": "https://localhost:8080/"
    },
    "executionInfo": {
     "elapsed": 1594,
     "status": "ok",
     "timestamp": 1614717542066,
     "user": {
      "displayName": "Tomasz",
      "photoUrl": "",
      "userId": "05358483110003930735"
     },
     "user_tz": -60
    },
    "id": "UlOxktklqZ5b",
    "outputId": "e429cb10-15fb-4077-fb2c-9a5e253a54cd"
   },
   "outputs": [
    {
     "name": "stdout",
     "output_type": "stream",
     "text": [
      "3\n"
     ]
    }
   ],
   "source": [
    "from typing import Dict\n",
    "\n",
    "di: Dict[str, str] = {\n",
    "    'one': 'jeden',\n",
    "    'two': 'dwa',\n",
    "    'three': 'trzy',\n",
    "}\n",
    "\n",
    "print(len(di))"
   ]
  },
  {
   "cell_type": "markdown",
   "metadata": {
    "id": "u7tcdfCuq7Wb"
   },
   "source": [
    "## Zbiory\n",
    "\n",
    "Zbiór jest zmienną, w której można przechowywać wiele innych wartości różnych typów. W zbiorach wartości się nie powtarzają\n",
    "\n",
    "### Tworzenie nowego zbioru\n",
    "\n",
    "Utwórzmy pusty zbiór"
   ]
  },
  {
   "cell_type": "code",
   "execution_count": 30,
   "metadata": {
    "colab": {
     "base_uri": "https://localhost:8080/"
    },
    "executionInfo": {
     "elapsed": 628,
     "status": "ok",
     "timestamp": 1614717777992,
     "user": {
      "displayName": "Tomasz",
      "photoUrl": "",
      "userId": "05358483110003930735"
     },
     "user_tz": -60
    },
    "id": "EDE7PFEqqle4",
    "outputId": "bdc689bb-e3dc-4d97-f3e6-acdf6afeadb9"
   },
   "outputs": [
    {
     "name": "stdout",
     "output_type": "stream",
     "text": [
      "set()\n"
     ]
    }
   ],
   "source": [
    "s = set()\n",
    "\n",
    "print(s)"
   ]
  },
  {
   "cell_type": "markdown",
   "metadata": {
    "id": "yywXPWg7rgOL"
   },
   "source": [
    "Zbiór można oznaczyć typem Set zaimportowanym z modułu typing. Stwórzmy nowy zbiór do którego zostanie przekazana lista wartości całkowitych, gdzie niektóre z wartości się powtarzają"
   ]
  },
  {
   "cell_type": "code",
   "execution_count": 31,
   "metadata": {
    "colab": {
     "base_uri": "https://localhost:8080/"
    },
    "executionInfo": {
     "elapsed": 531,
     "status": "ok",
     "timestamp": 1614718016310,
     "user": {
      "displayName": "Tomasz",
      "photoUrl": "",
      "userId": "05358483110003930735"
     },
     "user_tz": -60
    },
    "id": "fF9YCm9irDPB",
    "outputId": "514b9cc6-2928-4c78-9620-c333f0f194b8"
   },
   "outputs": [
    {
     "name": "stdout",
     "output_type": "stream",
     "text": [
      "{1, 3, 5, 7}\n"
     ]
    }
   ],
   "source": [
    "from typing import Set  # importujemy typ zbioru (Set) z modulu typing\n",
    "\n",
    "s: Set[int] = set([1, 1, 3, 5, 3, 7])  # tworzymy zbior wartosci calkowitych (oznaczonych typem int)\n",
    "\n",
    "print(s)"
   ]
  },
  {
   "cell_type": "markdown",
   "metadata": {
    "id": "aYTE54vSsGvk"
   },
   "source": [
    "### Dodawanie wartości do zbioru\n",
    "\n",
    "Wartości do zbioru można dodać za pomocą metody add()\n"
   ]
  },
  {
   "cell_type": "code",
   "execution_count": 32,
   "metadata": {
    "colab": {
     "base_uri": "https://localhost:8080/"
    },
    "executionInfo": {
     "elapsed": 460,
     "status": "ok",
     "timestamp": 1614718158901,
     "user": {
      "displayName": "Tomasz",
      "photoUrl": "",
      "userId": "05358483110003930735"
     },
     "user_tz": -60
    },
    "id": "ZgqYZLT9r6Z1",
    "outputId": "2263a4ee-187d-4010-8f0e-939a5ebb120d"
   },
   "outputs": [
    {
     "name": "stdout",
     "output_type": "stream",
     "text": [
      "set()\n",
      "{10, 20, 15}\n",
      "{10, 20, 15}\n"
     ]
    }
   ],
   "source": [
    "from typing import Set\n",
    "\n",
    "s: Set[int] = set()  # tworzymy nowy pusty zbior\n",
    "print(s)\n",
    "\n",
    "s.add(20)\n",
    "s.add(10)\n",
    "s.add(15)\n",
    "\n",
    "print(s)\n",
    "\n",
    "s.add(10)  # dodajemy jeszcze raz wartosc ktora juz wystepuje w zbiorze\n",
    "\n",
    "print(s)"
   ]
  },
  {
   "cell_type": "markdown",
   "metadata": {
    "id": "VMZsIoOXt0XT"
   },
   "source": [
    "### Usuwanie wartości ze zbioru\n",
    "\n",
    "Wartości ze zbioru usuwamy metodą remove()"
   ]
  },
  {
   "cell_type": "code",
   "execution_count": 24,
   "metadata": {
    "colab": {
     "base_uri": "https://localhost:8080/"
    },
    "executionInfo": {
     "elapsed": 591,
     "status": "ok",
     "timestamp": 1614718574365,
     "user": {
      "displayName": "Tomasz",
      "photoUrl": "",
      "userId": "05358483110003930735"
     },
     "user_tz": -60
    },
    "id": "kZk27KE6sukL",
    "outputId": "079a67e6-bf2d-427b-bb22-b05aea9d0473"
   },
   "outputs": [
    {
     "name": "stdout",
     "output_type": "stream",
     "text": [
      "Przed usunieciem: {1, 3, 5, 7, 8, 10}\n",
      "True\n",
      "Po usunieciu: {1, 3, 5, 7, 8}\n"
     ]
    }
   ],
   "source": [
    "from typing import Set\n",
    "\n",
    "s: Set[int] = set([1, 1, 3, 5, 3, 7, 8, 10, 5, 8])  # tworzymy bowy zbior, w ktorym te wartosci nie beda sie powtarzaly\n",
    "print(f'Przed usunieciem: {s}')\n",
    "print(10 in s)\n",
    "s.remove(10)  # usuwamy ze zbioru wartosc 10\n",
    "print(f'Po usunieciu: {s}')"
   ]
  },
  {
   "cell_type": "markdown",
   "metadata": {
    "id": "4pDfvbpzvEfE"
   },
   "source": [
    "### Działania na zbiorach\n",
    "\n",
    "W języku python dostępne są podstawowe działania na zbiorach\n",
    "\n",
    "#### Sprawdzenie czy dany zbiór jest podzbiorem innego zbioru\n",
    "\n"
   ]
  },
  {
   "cell_type": "code",
   "execution_count": 25,
   "metadata": {
    "colab": {
     "base_uri": "https://localhost:8080/"
    },
    "executionInfo": {
     "elapsed": 724,
     "status": "ok",
     "timestamp": 1614720548947,
     "user": {
      "displayName": "Tomasz",
      "photoUrl": "",
      "userId": "05358483110003930735"
     },
     "user_tz": -60
    },
    "id": "75VeNPlBuhx7",
    "outputId": "736998a8-2b20-49df-bb91-6a2009054435"
   },
   "outputs": [
    {
     "name": "stdout",
     "output_type": "stream",
     "text": [
      "True\n",
      "True\n"
     ]
    }
   ],
   "source": [
    "from typing import Set\n",
    "\n",
    "a: Set[int] = set([1, 2, 3, 4])  # nowy zbior wartosci calkowitych\n",
    "b: Set[int] = set([1, 4])\n",
    "\n",
    "print(b <= a)  # wysweitlamy wartosc logiczna informujaca czy b jest podzbiorem a\n",
    "print(b.issubset(a))"
   ]
  },
  {
   "cell_type": "markdown",
   "metadata": {
    "id": "lG0NABn02ElT"
   },
   "source": [
    "#### Sprawdzenie czy dany zbiór jest nadzbiorem innego zbioru"
   ]
  },
  {
   "cell_type": "code",
   "execution_count": 26,
   "metadata": {
    "colab": {
     "base_uri": "https://localhost:8080/"
    },
    "executionInfo": {
     "elapsed": 629,
     "status": "ok",
     "timestamp": 1614720676400,
     "user": {
      "displayName": "Tomasz",
      "photoUrl": "",
      "userId": "05358483110003930735"
     },
     "user_tz": -60
    },
    "id": "V4PnPDJz1__A",
    "outputId": "77314639-4019-4cdc-8515-c434daecf12a"
   },
   "outputs": [
    {
     "name": "stdout",
     "output_type": "stream",
     "text": [
      "True\n",
      "True\n"
     ]
    }
   ],
   "source": [
    "from typing import Set\n",
    "\n",
    "a: Set[int] = set([1, 2, 3, 4])\n",
    "b: Set[int] = set([1, 4])\n",
    "\n",
    "print(a >= b)  # wysweitlamy wartosc logiczna informujaca czy a jest nadzbiorem b\n",
    "print(a.issuperset(b))"
   ]
  },
  {
   "cell_type": "markdown",
   "metadata": {
    "id": "lmT1CAOX2c05"
   },
   "source": [
    "#### Suma zbiorów"
   ]
  },
  {
   "cell_type": "code",
   "execution_count": 36,
   "metadata": {
    "colab": {
     "base_uri": "https://localhost:8080/"
    },
    "executionInfo": {
     "elapsed": 341,
     "status": "ok",
     "timestamp": 1614720712493,
     "user": {
      "displayName": "Tomasz",
      "photoUrl": "",
      "userId": "05358483110003930735"
     },
     "user_tz": -60
    },
    "id": "MWkFI3C-2SqG",
    "outputId": "863e39d9-7a7a-49ae-e62a-6c4f6b5fa51f"
   },
   "outputs": [
    {
     "name": "stdout",
     "output_type": "stream",
     "text": [
      "{1, 2, 3, 4, 8}\n"
     ]
    }
   ],
   "source": [
    "from typing import Set\n",
    "\n",
    "a: Set[int] = set([1, 2, 3, 4])\n",
    "b: Set[int] = set([1, 8])\n",
    "\n",
    "d: Set[int] = a | b  # tworzymy nowy zbior d jako sume zbiorow a i b\n",
    "\n",
    "print(d)"
   ]
  },
  {
   "cell_type": "markdown",
   "metadata": {
    "id": "FDljspZk2-i4"
   },
   "source": [
    "#### Część wspólna zbiorów"
   ]
  },
  {
   "cell_type": "code",
   "execution_count": 37,
   "metadata": {
    "colab": {
     "base_uri": "https://localhost:8080/"
    },
    "executionInfo": {
     "elapsed": 551,
     "status": "ok",
     "timestamp": 1614720911287,
     "user": {
      "displayName": "Tomasz",
      "photoUrl": "",
      "userId": "05358483110003930735"
     },
     "user_tz": -60
    },
    "id": "KDWWXJjt2r01",
    "outputId": "1e71b4bc-e9ac-4819-c378-1de689749f36"
   },
   "outputs": [
    {
     "name": "stdout",
     "output_type": "stream",
     "text": [
      "{1, 3}\n"
     ]
    }
   ],
   "source": [
    "from typing import Set\n",
    "\n",
    "a: Set[int] = set([1, 2, 3, 4, 5])\n",
    "b: Set[int] = set([1, 3, 7, 11])\n",
    "\n",
    "d: Set[int] = a & b\n",
    "\n",
    "print(d)"
   ]
  },
  {
   "cell_type": "markdown",
   "metadata": {
    "id": "wggDog7-3fEj"
   },
   "source": [
    "#### Różnica zbiorów"
   ]
  },
  {
   "cell_type": "code",
   "execution_count": 38,
   "metadata": {
    "colab": {
     "base_uri": "https://localhost:8080/"
    },
    "executionInfo": {
     "elapsed": 606,
     "status": "ok",
     "timestamp": 1614721001962,
     "user": {
      "displayName": "Tomasz",
      "photoUrl": "",
      "userId": "05358483110003930735"
     },
     "user_tz": -60
    },
    "id": "ZeUAX9Wj3PN8",
    "outputId": "66f2bd01-34b1-4690-ca11-d574eb59f8e7"
   },
   "outputs": [
    {
     "name": "stdout",
     "output_type": "stream",
     "text": [
      "{2, 4, 5}\n"
     ]
    }
   ],
   "source": [
    "from typing import Set\n",
    "\n",
    "a: Set[int] = set([1, 2, 3, 4, 5])\n",
    "b: Set[int] = set([1, 3, 7, 11])\n",
    "\n",
    "d: Set[int] = a - b\n",
    "\n",
    "print(d)"
   ]
  },
  {
   "cell_type": "markdown",
   "metadata": {
    "id": "94mbVq_Z30qo"
   },
   "source": [
    "#### Różnica symetryczna zbiorów"
   ]
  },
  {
   "cell_type": "code",
   "execution_count": 39,
   "metadata": {
    "colab": {
     "base_uri": "https://localhost:8080/"
    },
    "executionInfo": {
     "elapsed": 529,
     "status": "ok",
     "timestamp": 1614721044109,
     "user": {
      "displayName": "Tomasz",
      "photoUrl": "",
      "userId": "05358483110003930735"
     },
     "user_tz": -60
    },
    "id": "RcvShmIJ3ycs",
    "outputId": "332b0286-2214-4c57-927c-aa8f585084a9"
   },
   "outputs": [
    {
     "name": "stdout",
     "output_type": "stream",
     "text": [
      "{2, 4, 5, 7, 11}\n"
     ]
    }
   ],
   "source": [
    "from typing import Set\n",
    "\n",
    "a: Set[int] = set([1, 2, 3, 4, 5])\n",
    "b: Set[int] = set([1, 3, 7, 11])\n",
    "\n",
    "d: Set[int] = a ^ b\n",
    "\n",
    "print(d)"
   ]
  },
  {
   "cell_type": "markdown",
   "metadata": {
    "id": "aCOx8Zxs46Tp"
   },
   "source": [
    "## Instrukcja warunkowa\n",
    "\n",
    "Instrukcja warunkowa pozwala na wykonanie pewnej części kodu, tylko wtedy gdy spełniony jest dany warunek, jeśli warunek nie jest spełniony dana część kodu jest pomijana."
   ]
  },
  {
   "cell_type": "code",
   "execution_count": 28,
   "metadata": {
    "colab": {
     "base_uri": "https://localhost:8080/"
    },
    "executionInfo": {
     "elapsed": 742,
     "status": "ok",
     "timestamp": 1614721423585,
     "user": {
      "displayName": "Tomasz",
      "photoUrl": "",
      "userId": "05358483110003930735"
     },
     "user_tz": -60
    },
    "id": "XGta55u-38wL",
    "outputId": "17b7abde-ae0a-4a7b-9766-8731e749fe27"
   },
   "outputs": [
    {
     "name": "stdout",
     "output_type": "stream",
     "text": [
      "b jest wieksze lub równe\n"
     ]
    }
   ],
   "source": [
    "a: int = 8\n",
    "b: int = 15\n",
    "\n",
    "if a > b:\n",
    "    print('a jest wieksze')\n",
    "else:\n",
    "    print('b jest wieksze lub równe')"
   ]
  },
  {
   "cell_type": "code",
   "execution_count": 31,
   "metadata": {
    "colab": {
     "base_uri": "https://localhost:8080/"
    },
    "executionInfo": {
     "elapsed": 3728,
     "status": "ok",
     "timestamp": 1614721546564,
     "user": {
      "displayName": "Tomasz",
      "photoUrl": "",
      "userId": "05358483110003930735"
     },
     "user_tz": -60
    },
    "id": "AWZ3OC655ZWf",
    "outputId": "7e777887-1a4e-44c5-8d8e-69ad0888ef74"
   },
   "outputs": [
    {
     "name": "stdout",
     "output_type": "stream",
     "text": [
      "podaj a: 2\n",
      "podaj b: 2\n",
      "obie wartosci sa rowne\n"
     ]
    }
   ],
   "source": [
    "a: int = int(input('podaj a: '))\n",
    "b: int = int(input('podaj b: '))\n",
    "\n",
    "if a > b:\n",
    "  print('a jest wieksze')\n",
    "elif a < b:\n",
    "  print('b jest wieksze')\n",
    "else:\n",
    "  print('obie wartosci sa rowne')"
   ]
  },
  {
   "cell_type": "markdown",
   "metadata": {
    "id": "PDz2kIsA6F-m"
   },
   "source": [
    "### Spójniki logiczne\n",
    "\n",
    "W złożonych instrukcjach warunkowych można również wykorzystywać spójniki logiczne takie jak and i or\n",
    "\n",
    "Sprawdźmy czy wartośc w zmiennej a jest parzysta i większa niż 100"
   ]
  },
  {
   "cell_type": "code",
   "execution_count": 34,
   "metadata": {
    "colab": {
     "base_uri": "https://localhost:8080/"
    },
    "executionInfo": {
     "elapsed": 2881,
     "status": "ok",
     "timestamp": 1614721916531,
     "user": {
      "displayName": "Tomasz",
      "photoUrl": "",
      "userId": "05358483110003930735"
     },
     "user_tz": -60
    },
    "id": "1lRpzPnV504g",
    "outputId": "6ceefb1d-9fdc-4bec-ce0c-a38574d8ec82"
   },
   "outputs": [
    {
     "name": "stdout",
     "output_type": "stream",
     "text": [
      "podaj liczbe: 102\n",
      "parzysta liczba > 100\n"
     ]
    }
   ],
   "source": [
    "a: int = int(input('podaj liczbe: '))\n",
    "\n",
    "if a > 100 and a % 2 == 0:\n",
    "  print('parzysta liczba > 100')\n",
    "else:\n",
    "  print('cos innego')"
   ]
  },
  {
   "cell_type": "code",
   "execution_count": null,
   "metadata": {},
   "outputs": [],
   "source": []
  },
  {
   "cell_type": "markdown",
   "metadata": {
    "id": "FrprES5i7vCx"
   },
   "source": [
    "## Pętla for\n",
    "\n",
    "Pętla for służy do przeglądania wartości kolekcji (np list, krotek, słowników). W każdym przebiegu pętli zmienna sterująca przyjmuje wartość kolejnego elementu kolekcji.\n",
    "\n",
    "Stwórzmy pętlę for, która dokona iteracji po wszystkich elementach listy i je wyswietli"
   ]
  },
  {
   "cell_type": "code",
   "execution_count": 11,
   "metadata": {
    "colab": {
     "base_uri": "https://localhost:8080/"
    },
    "executionInfo": {
     "elapsed": 437,
     "status": "ok",
     "timestamp": 1614722348306,
     "user": {
      "displayName": "Tomasz",
      "photoUrl": "",
      "userId": "05358483110003930735"
     },
     "user_tz": -60
    },
    "id": "fDZcRaWZ7nDB",
    "outputId": "991d25fe-2d84-4f25-e5cc-d0042f9c3adf"
   },
   "outputs": [
    {
     "name": "stdout",
     "output_type": "stream",
     "text": [
      "10\n",
      "20\n",
      "30\n",
      "40\n",
      "50\n"
     ]
    }
   ],
   "source": [
    "from typing import List\n",
    "\n",
    "li: List[int] = [10, 20, 30, 40, 50]  # tworzymy nowa liste wartosci calkowitych\n",
    "\n",
    "# rozpoczynamy petle po liscie li, gdzie przy kazdym przebiegu zmienna element przyjmie kolejna wartosc z listy li\n",
    "for element in li:\n",
    "  print(element)"
   ]
  },
  {
   "cell_type": "markdown",
   "metadata": {
    "id": "A6y7GW8d9Pc5"
   },
   "source": [
    "Wewnątrz pętli for można dokonać wielu operacji na przeglądanych elementach kolekcji. Można również utworzyć z nich nową listę.\n",
    "\n",
    "Stwórzmy za pomocą pętli for nową listę, w której umieścimy wartości z listy li pomnożone przez 2"
   ]
  },
  {
   "cell_type": "code",
   "execution_count": 12,
   "metadata": {
    "colab": {
     "base_uri": "https://localhost:8080/"
    },
    "executionInfo": {
     "elapsed": 679,
     "status": "ok",
     "timestamp": 1614722689144,
     "user": {
      "displayName": "Tomasz",
      "photoUrl": "",
      "userId": "05358483110003930735"
     },
     "user_tz": -60
    },
    "id": "Wa1oS2aD87L3",
    "outputId": "bd3159b3-7102-41e0-938e-f76de52d525d"
   },
   "outputs": [
    {
     "name": "stdout",
     "output_type": "stream",
     "text": [
      "[20, 40, 60, 80, 100]\n"
     ]
    }
   ],
   "source": [
    "from typing import List\n",
    "\n",
    "li: List[int] = [10, 20, 30, 40, 50]  # tworzymy nowa liste wartosci calkowitych\n",
    "li_new: List[int] = []  # pusta lista, do ktorej nowe elementy zostana dodane za pomoca petli for\n",
    "\n",
    "# petla po liscie li, gdzie przy kazdym przebiegu zmienna element przyjmie kolejna wartosc z listy li\n",
    "for element in li:\n",
    "  new_element: int = element * 2  # wyznaczamy nowa wartosc elementu, ktory zostanie dodany do nowej listy\n",
    "  li_new.append(new_element)  # dodajemy na koncu nowej listy nowy element\n",
    "\n",
    "print(li_new)"
   ]
  },
  {
   "cell_type": "markdown",
   "metadata": {
    "id": "YUY133yrCe3j"
   },
   "source": [
    "### Iteracja po wyznaczonym zakresie wartości\n",
    "\n",
    "W języku Python pętla for umożliwia również iterację po wyznaczonym zakresie wartości, do czego służy funkcja range()\n",
    "\n",
    "Stwórzmy pętlę for, która wypisze wartości od 0 do 9"
   ]
  },
  {
   "cell_type": "code",
   "execution_count": 44,
   "metadata": {
    "colab": {
     "base_uri": "https://localhost:8080/"
    },
    "executionInfo": {
     "elapsed": 573,
     "status": "ok",
     "timestamp": 1614724527947,
     "user": {
      "displayName": "Tomasz",
      "photoUrl": "",
      "userId": "05358483110003930735"
     },
     "user_tz": -60
    },
    "id": "4AHoUiK5-OSv",
    "outputId": "573c82eb-9c0d-45a5-a915-ef46dd4d6093"
   },
   "outputs": [
    {
     "name": "stdout",
     "output_type": "stream",
     "text": [
      "0\n",
      "1\n",
      "2\n",
      "3\n",
      "4\n",
      "5\n",
      "6\n",
      "7\n",
      "8\n",
      "9\n"
     ]
    }
   ],
   "source": [
    "for i in range(0, 10):  # 0 jest poczatkiem przedzialu, a 10 koncem (niedomknietym)\n",
    "  print(i)"
   ]
  },
  {
   "cell_type": "markdown",
   "metadata": {
    "id": "g3GWIbV6FQM6"
   },
   "source": [
    "### Pętla w pętli\n",
    "\n",
    "W języku python nie istnieją ograniczenia związane z zagnieżdżeniami pętli, co oznacza że bez problemu można umieścić pętlę wewnątrz innej pętli\n",
    "\n",
    "Stwórzmy za pomocą pętli listę 2D (2 wiersze, 3 kolumny) wypełnioną wartościami całkowitymi od 0 do 2"
   ]
  },
  {
   "cell_type": "code",
   "execution_count": 23,
   "metadata": {
    "colab": {
     "base_uri": "https://localhost:8080/"
    },
    "executionInfo": {
     "elapsed": 505,
     "status": "ok",
     "timestamp": 1614725279367,
     "user": {
      "displayName": "Tomasz",
      "photoUrl": "",
      "userId": "05358483110003930735"
     },
     "user_tz": -60
    },
    "id": "jkUQTt0OEuZ9",
    "outputId": "c1fbcedd-2d58-4e2d-c183-902f5d5dcd34"
   },
   "outputs": [
    {
     "name": "stdout",
     "output_type": "stream",
     "text": [
      "[[0, 1, 2], [0, 1, 2]]\n"
     ]
    }
   ],
   "source": [
    "from typing import List\n",
    "\n",
    "li: List[List[int]] = []  # lista jest na poczatku pusta\n",
    "\n",
    "for i in range(2):  # petla wykona sie 2x czyli tyle razy ile bedzie wierszy w wynikowej liscie\n",
    "  tmp_row: List[int] = []  # tymczasowa lista, poczatkowo pusta, do ktorej beda przypisywane wartosci kazdego wiersza\n",
    "  \n",
    "  for j in range(3):  # petla wykona sie 3x czyli tyle ile bedzie kolumn w wynikowej liscie\n",
    "    tmp_row.append(j)  # dodajemy nowa wartosc do listy ktora reprezentuje wiersz\n",
    "\n",
    "  li.append(tmp_row)  # dodajemy nowy wiersz do listy glownej\n",
    "\n",
    "print(li)"
   ]
  },
  {
   "cell_type": "markdown",
   "metadata": {
    "id": "AP4FugSxIRmH"
   },
   "source": [
    "## Pętla while\n",
    "\n",
    "Pętla while wykonuje się dopóki jest spełniony warunek.\n",
    "\n",
    "Stwórzmy pętlę while, która będzie się wykonywała dopóki wartość zmiennej a będzie mniejsza od 6\n",
    "\n"
   ]
  },
  {
   "cell_type": "code",
   "execution_count": 13,
   "metadata": {
    "colab": {
     "base_uri": "https://localhost:8080/"
    },
    "executionInfo": {
     "elapsed": 755,
     "status": "ok",
     "timestamp": 1614788431454,
     "user": {
      "displayName": "Tomasz",
      "photoUrl": "",
      "userId": "05358483110003930735"
     },
     "user_tz": -60
    },
    "id": "eIpmhS7UIGwl",
    "outputId": "6999c0d2-cc5e-41d4-964c-3a37a8b137a1"
   },
   "outputs": [
    {
     "name": "stdout",
     "output_type": "stream",
     "text": [
      "0\n",
      "1\n",
      "2\n",
      "3\n",
      "4\n",
      "5\n"
     ]
    }
   ],
   "source": [
    "a: int = 0  # wartosc poczatkowa zmiennej calkowitej a\n",
    "\n",
    "while a < 6:  # petla wykonuje sie dopoki a < 6, czyli 6x liczac od 0\n",
    "  print(a)\n",
    "\n",
    "  a += 1  # zwiekszamy wartosc zmiennej a o 1"
   ]
  },
  {
   "cell_type": "markdown",
   "metadata": {
    "id": "Cn5x0D5q2EIm"
   },
   "source": [
    "Pętli while (podobnie jak pętlę for) można również użyć do uzupełniania list, słowników czy zbiorów\n",
    "\n",
    "Stwórzmy pętlę while, która wypełni słownik parami, gdzie a będzie kluczem, a kwadrat a będzie wartością"
   ]
  },
  {
   "cell_type": "code",
   "execution_count": 24,
   "metadata": {
    "colab": {
     "base_uri": "https://localhost:8080/"
    },
    "executionInfo": {
     "elapsed": 553,
     "status": "ok",
     "timestamp": 1614788055146,
     "user": {
      "displayName": "Tomasz",
      "photoUrl": "",
      "userId": "05358483110003930735"
     },
     "user_tz": -60
    },
    "id": "oucqafJc1-_i",
    "outputId": "142f4812-4b17-4029-d7fc-7b7666e26b9e"
   },
   "outputs": [
    {
     "name": "stdout",
     "output_type": "stream",
     "text": [
      "{0: 0, 1: 1, 2: 4, 3: 9, 4: 16, 5: 25}\n"
     ]
    }
   ],
   "source": [
    "from typing import Dict\n",
    "\n",
    "di: Dict[int, int] = {}  # pusty slownik, gdzie klucz i wartosc sa typu calkowitego\n",
    "a: int = 0  # poczatkowa wartosc zmiennej a\n",
    "\n",
    "while a < 6:  # petla wykonuje sie dopoki a < 6\n",
    "  di[a] = a ** 2  # w slowniku pod kluczem calkowitoliczbowym ktory wskazuje zmienna a podstawiamy wartosc jako kwadrat wartosci zmiennej a\n",
    "\n",
    "  a += 1  # zwiekszamy wartosc zmiennej a o 1\n",
    "\n",
    "print(di)  "
   ]
  },
  {
   "cell_type": "markdown",
   "metadata": {
    "id": "1VjK1uS93piZ"
   },
   "source": [
    "### Pętla w pętli\n",
    "\n",
    "Pętle while można również zagnieżdżać wewnątrz innych pętli, bez znaczenia czy jest to pętla for czy while\n",
    "\n",
    "Stwórzmy za pomocą pętli listę 2D (2 wiersze, 3 kolumny) wypełnioną wartościami całkowitymi od 0 do 2"
   ]
  },
  {
   "cell_type": "code",
   "execution_count": 46,
   "metadata": {
    "colab": {
     "base_uri": "https://localhost:8080/"
    },
    "executionInfo": {
     "elapsed": 598,
     "status": "ok",
     "timestamp": 1614790820761,
     "user": {
      "displayName": "Tomasz",
      "photoUrl": "",
      "userId": "05358483110003930735"
     },
     "user_tz": -60
    },
    "id": "TfYKIEI_241T",
    "outputId": "82d73e77-f929-4eeb-e5d3-4a80e90ca955"
   },
   "outputs": [
    {
     "name": "stdout",
     "output_type": "stream",
     "text": [
      "[[0, 1, 2], [0, 1, 2]]\n"
     ]
    }
   ],
   "source": [
    "from typing import List\n",
    "\n",
    "li: List[List[int]] = []  # lista jest na poczatku pusta\n",
    "i: int = 0  # wartosc startowa, rozpoczynamy petle od uzupelnienia pierwszego wiersza, czyli indeks 0\n",
    "j: int = 0  # wartosc startowa, rozpoczynamy petle od uzupelnienia pierwszej kolumny, czyli indeks 0\n",
    "\n",
    "while i < 2:  # petla wykonuje sie dopoki i < 2, czyli 2x liczac od 0\n",
    "  tmp_row: List[int] = []  # tymczasowa lista, poczatkowo pusta, do ktorej beda przypisywane wartosci nowego wiersza\n",
    "  j = 0  # w kazdym kolejnym wierszu rozpoczynamy od pierwszej kolumny oznaczonej indeksem 0\n",
    "\n",
    "  while j < 3:  # petla wykonuje sie dopoki j < 3, czyli 3x liczac od 0\n",
    "    tmp_row.append(j)  # dodajemy nowy wiersz do listy ktora reprezentuje wiersz\n",
    "    j += 1  # zwiekszamy wartosc zmiennej j o 1\n",
    "\n",
    "  li.append(tmp_row)  # dodajemy wiersz do listy glownej\n",
    "  i += 1  # zwiekszamy wartosc zmiennej i o 1\n",
    "\n",
    "print(li)"
   ]
  },
  {
   "cell_type": "markdown",
   "metadata": {
    "id": "IXVVsSDIDPHW"
   },
   "source": [
    "## Instrukcje sterujące petlą\n",
    "\n",
    "Czasami wykonanie pętli należy przerwać do następnego przebiegu lub zatrzymać całkowicie\n",
    "\n",
    "### Instrukcja continue\n",
    "\n",
    "Instrukcja continue pozwala przerwać wykonanie pętli i przejść do następnego przebiegu\n",
    "\n",
    "Stwórzmy pętlę, która wyświetli potęgę 2, 3 oraz 4 liczb z zakresu od 2 do 5 z wyjątkiem liczby 3."
   ]
  },
  {
   "cell_type": "code",
   "execution_count": 48,
   "metadata": {
    "colab": {
     "base_uri": "https://localhost:8080/"
    },
    "executionInfo": {
     "elapsed": 593,
     "status": "ok",
     "timestamp": 1614793106936,
     "user": {
      "displayName": "Tomasz",
      "photoUrl": "",
      "userId": "05358483110003930735"
     },
     "user_tz": -60
    },
    "id": "HPbhYQ333_Jd",
    "outputId": "6756eeaa-edd3-4330-9296-76b37a21fad8"
   },
   "outputs": [
    {
     "name": "stdout",
     "output_type": "stream",
     "text": [
      "2^2 = 4\n",
      "2^3 = 8\n",
      "2^4 = 16\n",
      "4^2 = 16\n",
      "4^3 = 64\n",
      "4^4 = 256\n",
      "5^2 = 25\n",
      "5^3 = 125\n",
      "5^4 = 625\n"
     ]
    }
   ],
   "source": [
    "for i in range(2, 6):  # petla wyznaczajaca podstawy potegi\n",
    "  if i == 3:  # jezeli liczba wynosi 3 to przerywamy petle i przechodzimy do nastepnego przebiegu, czyli do nastepnej liczby\n",
    "    continue\n",
    "  \n",
    "  for j in range(2, 5):  # petla wyznaczajaca wykladniki potegi\n",
    "    score: int = i ** j  # wynik potegowania\n",
    "    print(f'{i}^{j} = {score}')"
   ]
  },
  {
   "cell_type": "markdown",
   "metadata": {
    "id": "S4X4QLAlK5bj"
   },
   "source": [
    "### Instrukcja break\n",
    "\n",
    "Instrukcja break jest podobna do instrukcji continue. Różnica polega na tym, że pętla zostanie całkowicie zatrzymana\n",
    "\n",
    "Stwórzmy pętlę, wewnątrz której będą wczytywane liczby od użytkownika oraz wyświetlane ich kwadraty. Pętla zostanie przerwana gdy zostanie wprowadzona liczba 0"
   ]
  },
  {
   "cell_type": "code",
   "execution_count": 49,
   "metadata": {
    "colab": {
     "base_uri": "https://localhost:8080/"
    },
    "executionInfo": {
     "elapsed": 6979,
     "status": "ok",
     "timestamp": 1614793367413,
     "user": {
      "displayName": "Tomasz",
      "photoUrl": "",
      "userId": "05358483110003930735"
     },
     "user_tz": -60
    },
    "id": "wXIuDZV_Kku_",
    "outputId": "1b3fc0d2-6931-48da-a554-1d8b48d464ee"
   },
   "outputs": [
    {
     "name": "stdout",
     "output_type": "stream",
     "text": [
      "podaj liczbe: 3\n",
      "3^2 = 9\n",
      "podaj liczbe: 7\n",
      "7^2 = 49\n",
      "podaj liczbe: 6\n",
      "6^2 = 36\n",
      "podaj liczbe: 33\n",
      "33^2 = 1089\n",
      "podaj liczbe: 0\n",
      "koniec petli\n"
     ]
    }
   ],
   "source": [
    "# petla wykonuje sie dopoki warunek jest spelniony, przy wartosci logicznej True warunek zawsze bedzie spelniony - petla bedzie dzialala ciagle\n",
    "while True:\n",
    "  value: int = int(input('podaj liczbe: '))  # pobieramy liczbe od uzytkownika\n",
    "\n",
    "  if value == 0:\n",
    "    break\n",
    "\n",
    "  print(f'{value}^2 = {value ** 2}')\n",
    "\n",
    "print('koniec petli')"
   ]
  },
  {
   "cell_type": "markdown",
   "metadata": {
    "id": "xs5-l69aM3lL"
   },
   "source": [
    "## Zadania\n",
    "\n",
    "1. Przygotować pętlę, która będzie dodawała wartości wczytane z klawiatury do zbioru. Pętla zostanie przerwana gdy liczebność zbioru przekroczy 10 elementów\n",
    "2. Przygotować pętlę, która będzie dodawała wartości wczytane z klawiatury do listy. Pętla zostanie przerwana gdy użytkownik wpisze wartość znajdującą się w liście\n",
    "3. Utworzyć macierz jednostkową za pomocą listy dwuwymiarowej\n",
    "4. Utworzyć następującą macierz za pomocą pętli:\n",
    "  $$\n",
    "  \\begin{bmatrix}\n",
    "    0 & 4 & 8 & 12 \\\\\n",
    "    1 & 0 & 9 & 13 \\\\\n",
    "    2 & 6 & 0 & 14 \\\\\n",
    "    3 & 7 & 11 & 0 \\\\\n",
    "  \\end{bmatrix}\n",
    "  $$\n",
    "5. Utworzyć słownik, w którym kluczem będzie dowolne słowo w języku polskim, a wartością jego odpowiednik w języku angielskim. Wypełnić słownik kilkoma parami (klucz, wartość). Przygotować pętlę, w której będzie pobierana wartość od użytkownika zawierająca słowo do przetłumaczenia. W przypadku gdy dane słowo nie istnieje w słowniku, należy pobrać tłumaczenie od użytkownika. Przerwać pętlę po wpisaniu przez użytkownika słowa \"end\"."
   ]
  },
  {
   "cell_type": "code",
   "execution_count": null,
   "metadata": {
    "id": "gOlsHq6qL0PF"
   },
   "outputs": [],
   "source": []
  }
 ],
 "metadata": {
  "colab": {
   "collapsed_sections": [],
   "name": "Lab_3.ipynb",
   "provenance": []
  },
  "kernelspec": {
   "display_name": "Python 3 (ipykernel)",
   "language": "python",
   "name": "python3"
  },
  "language_info": {
   "codemirror_mode": {
    "name": "ipython",
    "version": 3
   },
   "file_extension": ".py",
   "mimetype": "text/x-python",
   "name": "python",
   "nbconvert_exporter": "python",
   "pygments_lexer": "ipython3",
   "version": "3.10.4"
  }
 },
 "nbformat": 4,
 "nbformat_minor": 1
}