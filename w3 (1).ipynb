{
 "cells": [
  {
   "cell_type": "markdown",
   "metadata": {
    "id": "ZOiFZimGHmug"
   },
   "source": [
    "# Funkcje\n",
    "\n",
    "Funkcja to wydzielona część programu przeznaczona do wielokrotnego użytku. Każda funkcja posiada nazwę oraz listę argumenty, które są opcjonalne. Funkcja może wypisywać na ekranie pewne wartości, lub zwracać je \"na zewnątrz\".\n",
    "\n",
    "Przykład funkcji jednoargumentowej, która nie zwraca wartości:"
   ]
  },
  {
   "cell_type": "code",
   "execution_count": 1,
   "metadata": {
    "id": "sj0m5zJNHjjS"
   },
   "outputs": [],
   "source": [
    "def foo(a):\n",
    "  message = f'wartosc argumentu a wynosi: {a}'\n",
    "  print(message)"
   ]
  },
  {
   "cell_type": "markdown",
   "metadata": {
    "id": "3qzBQMTVJOxx"
   },
   "source": [
    "Funkcję można wywołać za pomocą jej nazwy, przekazując argumenty w nawiasie ()"
   ]
  },
  {
   "cell_type": "code",
   "execution_count": 3,
   "metadata": {
    "colab": {
     "base_uri": "https://localhost:8080/"
    },
    "executionInfo": {
     "elapsed": 950,
     "status": "ok",
     "timestamp": 1615916804284,
     "user": {
      "displayName": "Tomasz",
      "photoUrl": "",
      "userId": "05358483110003930735"
     },
     "user_tz": -60
    },
    "id": "fjAK_5_8JMMg",
    "outputId": "e9e8ed1f-7c81-451a-f629-526136e4ca6c",
    "scrolled": true
   },
   "outputs": [
    {
     "name": "stdout",
     "output_type": "stream",
     "text": [
      "wartosc argumentu a wynosi: 26\n",
      "wartosc argumentu a wynosi: 26\n",
      "None\n"
     ]
    }
   ],
   "source": [
    "foo(26)\n",
    "b = foo(26)\n",
    "print(b)"
   ]
  },
  {
   "cell_type": "markdown",
   "metadata": {
    "id": "aQZFrZXfJbY0"
   },
   "source": [
    "Funkcje mogą również zwracać wartości, np. obliczoną wartość wyrażenia arytmetycznego"
   ]
  },
  {
   "cell_type": "code",
   "execution_count": 4,
   "metadata": {
    "id": "9bZLuet3JaTE"
   },
   "outputs": [],
   "source": [
    "def suma(x, y):\n",
    "  return x + y"
   ]
  },
  {
   "cell_type": "markdown",
   "metadata": {
    "id": "3hLDQy25NDd_"
   },
   "source": [
    "W przypadku funkcji zwracającej wartość, wywołanie należy przypisać do jakiejś zmiennej"
   ]
  },
  {
   "cell_type": "code",
   "execution_count": 5,
   "metadata": {
    "colab": {
     "base_uri": "https://localhost:8080/"
    },
    "executionInfo": {
     "elapsed": 919,
     "status": "ok",
     "timestamp": 1615917800574,
     "user": {
      "displayName": "Tomasz",
      "photoUrl": "",
      "userId": "05358483110003930735"
     },
     "user_tz": -60
    },
    "id": "Byof2VgJM8p7",
    "outputId": "ec2a3610-6dae-49d1-8be2-9a63c9de36fa"
   },
   "outputs": [
    {
     "name": "stdout",
     "output_type": "stream",
     "text": [
      "11\n"
     ]
    }
   ],
   "source": [
    "score = suma(5, 6)\n",
    "\n",
    "print(score)"
   ]
  },
  {
   "cell_type": "markdown",
   "metadata": {
    "id": "FhxRXDLsNuYr"
   },
   "source": [
    "Funkcje mogą również zwracać wiele wartości"
   ]
  },
  {
   "cell_type": "code",
   "execution_count": 6,
   "metadata": {
    "id": "Q0HdD6y3NBXw"
   },
   "outputs": [],
   "source": [
    "def calc(x, y):\n",
    "  sum = x + y\n",
    "  difference = x - y\n",
    "  return sum, difference"
   ]
  },
  {
   "cell_type": "markdown",
   "metadata": {
    "id": "WO2Uyt7_OV58"
   },
   "source": [
    "Wynikiem funkcji zwracającej wiele wartości będzie krotka"
   ]
  },
  {
   "cell_type": "code",
   "execution_count": 7,
   "metadata": {
    "colab": {
     "base_uri": "https://localhost:8080/"
    },
    "executionInfo": {
     "elapsed": 914,
     "status": "ok",
     "timestamp": 1615918132001,
     "user": {
      "displayName": "Tomasz",
      "photoUrl": "",
      "userId": "05358483110003930735"
     },
     "user_tz": -60
    },
    "id": "kz6pDVXLOVPM",
    "outputId": "3e63a5a0-36ed-4445-9ec8-a291ef39eff1"
   },
   "outputs": [
    {
     "name": "stdout",
     "output_type": "stream",
     "text": [
      "(15, 5)\n",
      "<class 'tuple'>\n",
      "<class 'int'>\n"
     ]
    }
   ],
   "source": [
    "result = calc(10, 5)\n",
    "\n",
    "print(result)\n",
    "print(type(result))\n",
    "print(type(result[1]))"
   ]
  },
  {
   "cell_type": "markdown",
   "metadata": {
    "id": "WmtSdGrUOsXX"
   },
   "source": [
    "### Przekazywanie argumentów do funkcji\n",
    "\n",
    "W języku Python argumenty do funkcji można przekazać za pomocą pozycji lub nazwy\n",
    "\n",
    "Przekazywanie argumentów za pomocą pozycji polega na dopasowaniu wartości parametru zgodnie z pozycją w deklaracji funkcji\n",
    "\n"
   ]
  },
  {
   "cell_type": "code",
   "execution_count": 40,
   "metadata": {
    "id": "BotPb8RfOedX"
   },
   "outputs": [],
   "source": [
    "def foo(x, y, z):\n",
    "  print(f'x: {x}, y: {y}, z: {z}')"
   ]
  },
  {
   "cell_type": "code",
   "execution_count": 14,
   "metadata": {
    "colab": {
     "base_uri": "https://localhost:8080/"
    },
    "executionInfo": {
     "elapsed": 792,
     "status": "ok",
     "timestamp": 1615918928713,
     "user": {
      "displayName": "Tomasz",
      "photoUrl": "",
      "userId": "05358483110003930735"
     },
     "user_tz": -60
    },
    "id": "Z44gTM36RaVD",
    "outputId": "39492078-71e9-47cc-b318-73afe4b5ee3d"
   },
   "outputs": [
    {
     "name": "stdout",
     "output_type": "stream",
     "text": [
      "x: 10, y: 20, z: 30\n"
     ]
    }
   ],
   "source": [
    "foo(10, 20, 30)"
   ]
  },
  {
   "cell_type": "markdown",
   "metadata": {
    "id": "gP4Q1JeARbxC"
   },
   "source": [
    "Argumentom x, y, z zostały przyporządkowane odpowiednio wartości 10, 20, 30 - zgodnie z ich pozycją na liście parametrów w deklaracji funkcji\n",
    "\n",
    "Argumenty do funkcji można również przekazać za pomocą słów kluczowych w postaci (nazwa_argumentu=wartosc), wówczas kolejność przekazanych wartości nie będzie miała znaczenia"
   ]
  },
  {
   "cell_type": "code",
   "execution_count": 15,
   "metadata": {
    "colab": {
     "base_uri": "https://localhost:8080/"
    },
    "executionInfo": {
     "elapsed": 1033,
     "status": "ok",
     "timestamp": 1615919097709,
     "user": {
      "displayName": "Tomasz",
      "photoUrl": "",
      "userId": "05358483110003930735"
     },
     "user_tz": -60
    },
    "id": "C6I7w_87SFrl",
    "outputId": "56fa6b20-9608-4626-cd95-58bc28b9df1f"
   },
   "outputs": [
    {
     "name": "stdout",
     "output_type": "stream",
     "text": [
      "x: 10, y: 20, z: 30\n"
     ]
    }
   ],
   "source": [
    "foo(z=30, x=10, y=20)"
   ]
  },
  {
   "cell_type": "markdown",
   "metadata": {
    "id": "vb60cIqPSUAp"
   },
   "source": [
    "Jedną z alternatywnych metod przekazywania argumentów do funkcji jest lista *args. Wówczas wewnątrz funkcji parametry będą znajdowały się w liście o tej samej nazwie. Wykorzystanie listy *args nie stawia ograniczeń w liczbie argumentów przekazywanych do funkcji"
   ]
  },
  {
   "cell_type": "code",
   "execution_count": 8,
   "metadata": {
    "id": "p9f3tpURSIBL"
   },
   "outputs": [],
   "source": [
    "def foo(a, b, *args):\n",
    "  print(f'a: {a}, b: {b}, argument nr 3: {args[0]}, argument nr 4: {args[1]}, ...')"
   ]
  },
  {
   "cell_type": "markdown",
   "metadata": {
    "id": "e-IlG5MQTz3G"
   },
   "source": [
    "Podczas przekazywania argumentów do funkcji przy użyciu listy *args należy pamiętać o konieczności przekazywania ich pozycyjnie"
   ]
  },
  {
   "cell_type": "code",
   "execution_count": 11,
   "metadata": {
    "colab": {
     "base_uri": "https://localhost:8080/"
    },
    "executionInfo": {
     "elapsed": 1011,
     "status": "ok",
     "timestamp": 1615919581088,
     "user": {
      "displayName": "Tomasz",
      "photoUrl": "",
      "userId": "05358483110003930735"
     },
     "user_tz": -60
    },
    "id": "V-xC2WMMTyxm",
    "outputId": "8d3d0073-4b51-4ac1-ef8d-1862b0daad9f"
   },
   "outputs": [
    {
     "name": "stdout",
     "output_type": "stream",
     "text": [
      "a: 10, b: 20, argument nr 3: 30, argument nr 4: 40, ...\n"
     ]
    }
   ],
   "source": [
    "foo(10, 20, 30, 40)"
   ]
  },
  {
   "cell_type": "markdown",
   "metadata": {
    "id": "-JORCYJoULgQ"
   },
   "source": [
    "Kolejną alternatywną metodą przekazywania argumentów do funkcji jest słownik **kwargs, który podobnie jak lista *args, nie stawia ograniczeń w liczbie parametrów przekazywanych do funkcji"
   ]
  },
  {
   "cell_type": "code",
   "execution_count": 37,
   "metadata": {
    "id": "aTLw4nPuUANz"
   },
   "outputs": [],
   "source": [
    "def foo(x, **kwargs):\n",
    "  print(f'x: {x}, y: {kwargs[\"y\"]}, z: {kwargs[\"z\"]}')"
   ]
  },
  {
   "cell_type": "markdown",
   "metadata": {
    "id": "nOfcxdzmVGai"
   },
   "source": [
    "Podczas przekazywania argumentów do funkcji przy użyciu słownika **kwargs należy pamiętać o konieczności przekazywania ich za pomocą nazwy"
   ]
  },
  {
   "cell_type": "code",
   "execution_count": 30,
   "metadata": {
    "colab": {
     "base_uri": "https://localhost:8080/"
    },
    "executionInfo": {
     "elapsed": 492,
     "status": "ok",
     "timestamp": 1615919974615,
     "user": {
      "displayName": "Tomasz",
      "photoUrl": "",
      "userId": "05358483110003930735"
     },
     "user_tz": -60
    },
    "id": "PqPaZojgUEBv",
    "outputId": "8f29db1a-b51b-4fa0-c182-e7a988ca17a2"
   },
   "outputs": [
    {
     "name": "stdout",
     "output_type": "stream",
     "text": [
      "x: 20, y: 6, z: 9\n"
     ]
    }
   ],
   "source": [
    "foo(x=20, z=9, y=6)"
   ]
  },
  {
   "cell_type": "markdown",
   "metadata": {
    "id": "1ISbobHUVjWQ"
   },
   "source": [
    "Zarówno lista *args, jak i słownik **kwargs nie są nazwami wymaganymi do spełnienia swojej funkcjonalności. Warto jednak trzymać się dobrych praktyk. \n",
    "\n",
    "Znak * przed nazwą argumentu wskazuje, że znajduje się tam lista parametrów, a znak ** wskazuje, że znajduje się tam słownik nazwanych argumentów\n",
    "\n",
    "### Wartości domyślne argumentów\n",
    "\n",
    "Argumentom funkcji można również nadać wartości domyślne, wówczas w przypadku braku pojawienia się wartości takiego parametru, zostanie użyta wartość domyślna. W przypadku wykorzystania wartości domyślnej przy wywołaniu funkcji należy pamiętać o przekazywaniu argumentów za pomocą nazw. Nie każdy argument musi mieć nadaną wartość domyślną, lecz w takiej sytuacji należy pamiętać o uzupełnieniu wszystkich wymaganych wartości."
   ]
  },
  {
   "cell_type": "markdown",
   "metadata": {
    "id": "j5dJ00YbWuNr"
   },
   "source": [
    "Przykładowe wywołanie funkcji bez użycia wartości domyślnych argumentów"
   ]
  },
  {
   "cell_type": "code",
   "execution_count": 13,
   "metadata": {
    "colab": {
     "base_uri": "https://localhost:8080/"
    },
    "executionInfo": {
     "elapsed": 881,
     "status": "ok",
     "timestamp": 1615920361581,
     "user": {
      "displayName": "Tomasz",
      "photoUrl": "",
      "userId": "05358483110003930735"
     },
     "user_tz": -60
    },
    "id": "SU7tF_zbWm48",
    "outputId": "dd4f42e7-e45d-4b00-85e5-87a5aa686edf"
   },
   "outputs": [],
   "source": [
    "def foo(x=4, y=5, z=6):\n",
    "  print(f'x: {x}, y: {y}, z: {z}')"
   ]
  },
  {
   "cell_type": "markdown",
   "metadata": {
    "id": "5c5w35HkWs3w"
   },
   "source": [
    "Przykładowe wywołanie funkcji z wykorzystaniem wartości domyślnych dwóch argumentów"
   ]
  },
  {
   "cell_type": "code",
   "execution_count": 14,
   "metadata": {
    "colab": {
     "base_uri": "https://localhost:8080/"
    },
    "executionInfo": {
     "elapsed": 1101,
     "status": "ok",
     "timestamp": 1615920400434,
     "user": {
      "displayName": "Tomasz",
      "photoUrl": "",
      "userId": "05358483110003930735"
     },
     "user_tz": -60
    },
    "id": "rCXHteLXWp-M",
    "outputId": "ba47405b-b0ed-49ac-80ae-7a810caad11c"
   },
   "outputs": [
    {
     "name": "stdout",
     "output_type": "stream",
     "text": [
      "x: 5, y: 6, z: 7\n"
     ]
    }
   ],
   "source": [
    "foo(5,6,7)"
   ]
  },
  {
   "cell_type": "markdown",
   "metadata": {
    "id": "8zYlGG_3XJZN"
   },
   "source": [
    "Przykładowe wywołanie funkcji z wykorzystaniem wartości domyślnych wszystkich argumentów"
   ]
  },
  {
   "cell_type": "code",
   "execution_count": 16,
   "metadata": {
    "colab": {
     "base_uri": "https://localhost:8080/"
    },
    "executionInfo": {
     "elapsed": 1149,
     "status": "ok",
     "timestamp": 1615920444372,
     "user": {
      "displayName": "Tomasz",
      "photoUrl": "",
      "userId": "05358483110003930735"
     },
     "user_tz": -60
    },
    "id": "M7CqVM7QXIOk",
    "outputId": "4f8ea16a-5bc2-4bba-b24e-2b78fbf7fdc9"
   },
   "outputs": [
    {
     "name": "stdout",
     "output_type": "stream",
     "text": [
      "x: 4, y: 5, z: 6\n",
      "x: 4, y: 8, z: 6\n"
     ]
    }
   ],
   "source": [
    "foo()\n",
    "foo(y=8)"
   ]
  },
  {
   "cell_type": "markdown",
   "metadata": {
    "id": "z-d7_EYpXrGE"
   },
   "source": [
    "### Typowanie funkcji\n",
    "\n",
    "Funkcje i ich parametry, tak samo jak klasyczne zmiennej, mogą mieć nadane adnotacje typów. \n",
    "\n",
    "Przykładowa funkcja przyjmująca dwa argumenty oznaczone jako tekst i liczba całkowita, zwracająca tekst. Argumenty funkcji mają nadane dodatkowo wartości domyślne."
   ]
  },
  {
   "cell_type": "code",
   "execution_count": 12,
   "metadata": {
    "id": "39I491FyXS7a"
   },
   "outputs": [],
   "source": [
    "def get_message(name: str = 'Janusz', amount: int = 5) -> str:\n",
    "  message: str = f'{name} ma {amount} jablek'\n",
    "\n",
    "  return message"
   ]
  },
  {
   "cell_type": "code",
   "execution_count": 13,
   "metadata": {
    "colab": {
     "base_uri": "https://localhost:8080/"
    },
    "executionInfo": {
     "elapsed": 841,
     "status": "ok",
     "timestamp": 1615920834198,
     "user": {
      "displayName": "Tomasz",
      "photoUrl": "",
      "userId": "05358483110003930735"
     },
     "user_tz": -60
    },
    "id": "3823_gL8YaQ8",
    "outputId": "268b429f-32c1-4a2a-911a-fcd6109654b5"
   },
   "outputs": [
    {
     "name": "stdout",
     "output_type": "stream",
     "text": [
      "Czeslaw ma 10 jablek\n"
     ]
    }
   ],
   "source": [
    "message: str = get_message('Czeslaw', 10)\n",
    "\n",
    "print(message)"
   ]
  },
  {
   "cell_type": "code",
   "execution_count": 14,
   "metadata": {
    "colab": {
     "base_uri": "https://localhost:8080/"
    },
    "executionInfo": {
     "elapsed": 902,
     "status": "ok",
     "timestamp": 1615920845878,
     "user": {
      "displayName": "Tomasz",
      "photoUrl": "",
      "userId": "05358483110003930735"
     },
     "user_tz": -60
    },
    "id": "XUzjqc8aYyMK",
    "outputId": "059a608c-5c3a-4cdf-9f80-690c6829f9f0"
   },
   "outputs": [
    {
     "name": "stdout",
     "output_type": "stream",
     "text": [
      "Janusz ma 5 jablek\n"
     ]
    }
   ],
   "source": [
    "print(get_message())"
   ]
  },
  {
   "cell_type": "markdown",
   "metadata": {
    "id": "JtgV0fdIcqf3"
   },
   "source": [
    "### Zmienne globalne\n",
    "\n",
    "Wewnątrz funkcji istnieje możliwość swobodnego dostępu do zmiennych które zostały zdefiniowane poza funkcją"
   ]
  },
  {
   "cell_type": "code",
   "execution_count": 17,
   "metadata": {
    "id": "nI6SGkO0c2Du"
   },
   "outputs": [],
   "source": [
    "var: int = 10\n",
    "\n",
    "def foo() -> None: \n",
    "  var = 9\n",
    "  print(var)\n"
   ]
  },
  {
   "cell_type": "code",
   "execution_count": 18,
   "metadata": {
    "colab": {
     "base_uri": "https://localhost:8080/"
    },
    "executionInfo": {
     "elapsed": 931,
     "status": "ok",
     "timestamp": 1615921962539,
     "user": {
      "displayName": "Tomasz",
      "photoUrl": "",
      "userId": "05358483110003930735"
     },
     "user_tz": -60
    },
    "id": "5xnmz0vrdErW",
    "outputId": "f8ce1306-fd4e-4ff4-cb9c-5af14fcd09c2"
   },
   "outputs": [
    {
     "name": "stdout",
     "output_type": "stream",
     "text": [
      "9\n",
      "10\n"
     ]
    }
   ],
   "source": [
    "foo()\n",
    "print(var) "
   ]
  },
  {
   "cell_type": "markdown",
   "metadata": {
    "id": "CFXQ8qqQdEPF"
   },
   "source": [
    "Wewnątrz funkcji istnieje również możliwość modyfikacji zmiennych zdefiniowanych na zewnątrz. Taką zmienną należy wówczas oznaczyć jako globalną słowem kluczowym global. W przeciwnym wypadku wewnątrz funkcji zostanie utworzona nowa zmienna o takiej samej nazwie i o zasięgu lokalnym"
   ]
  },
  {
   "cell_type": "code",
   "execution_count": 19,
   "metadata": {
    "id": "U4Hj6PpNdScZ"
   },
   "outputs": [],
   "source": [
    "var: int = 10\n",
    "\n",
    "def foo() -> None:\n",
    "  global var  \n",
    "  var = 20  "
   ]
  },
  {
   "cell_type": "code",
   "execution_count": 20,
   "metadata": {
    "colab": {
     "base_uri": "https://localhost:8080/"
    },
    "executionInfo": {
     "elapsed": 956,
     "status": "ok",
     "timestamp": 1615922164708,
     "user": {
      "displayName": "Tomasz",
      "photoUrl": "",
      "userId": "05358483110003930735"
     },
     "user_tz": -60
    },
    "id": "D4Kye1ELdW_Z",
    "outputId": "5633a6ef-79cc-4638-c7ab-d95b14296197"
   },
   "outputs": [
    {
     "name": "stdout",
     "output_type": "stream",
     "text": [
      "20\n"
     ]
    }
   ],
   "source": [
    "foo()  \n",
    "\n",
    "print(var)  "
   ]
  },
  {
   "cell_type": "markdown",
   "metadata": {},
   "source": [
    "## Funkcja main\n",
    "Kiedy interpreter Pythona odczytuje plik źródłowy, wykonuje on cały znaleziony w nim kod.\n",
    "\n",
    "Przed wykonaniem kodu zdefiniuje kilka specjalnych zmiennych. Na przykład, jeśli interpreter Pythona uruchamia ten moduł (plik źródłowy) jako główny program, ustawia specjalną zmienną __name__ na wartość \"__main__\". Jeśli ten plik jest importowany z innego modułu, __name__ zostanie ustawiona na nazwę modułu.\n",
    "\n",
    "Załóżmy przykładową strukturę pliku:"
   ]
  },
  {
   "cell_type": "code",
   "execution_count": 29,
   "metadata": {},
   "outputs": [
    {
     "ename": "ModuleNotFoundError",
     "evalue": "No module named 'pierwszy_pakiet'",
     "output_type": "error",
     "traceback": [
      "\u001B[0;31m---------------------------------------------------------------------------\u001B[0m",
      "\u001B[0;31mModuleNotFoundError\u001B[0m                       Traceback (most recent call last)",
      "\u001B[0;32m/tmp/ipykernel_30203/319812149.py\u001B[0m in \u001B[0;36m<module>\u001B[0;34m\u001B[0m\n\u001B[1;32m      1\u001B[0m \u001B[0;31m#main example\u001B[0m\u001B[0;34m\u001B[0m\u001B[0;34m\u001B[0m\u001B[0m\n\u001B[0;32m----> 2\u001B[0;31m \u001B[0;32mimport\u001B[0m \u001B[0mpierwszy_pakiet\u001B[0m\u001B[0;34m,\u001B[0m \u001B[0mdrugi_pakiet\u001B[0m\u001B[0;34m\u001B[0m\u001B[0;34m\u001B[0m\u001B[0m\n\u001B[0m\u001B[1;32m      3\u001B[0m \u001B[0;34m\u001B[0m\u001B[0m\n\u001B[1;32m      4\u001B[0m \u001B[0;32mdef\u001B[0m \u001B[0mmy_function\u001B[0m\u001B[0;34m(\u001B[0m\u001B[0;34m)\u001B[0m\u001B[0;34m:\u001B[0m\u001B[0;34m\u001B[0m\u001B[0;34m\u001B[0m\u001B[0m\n\u001B[1;32m      5\u001B[0m     \u001B[0;34m...\u001B[0m\u001B[0;34m\u001B[0m\u001B[0;34m\u001B[0m\u001B[0m\n",
      "\u001B[0;31mModuleNotFoundError\u001B[0m: No module named 'pierwszy_pakiet'"
     ]
    }
   ],
   "source": [
    "#main example\n",
    "import pierwszy_pakiet, drugi_pakiet\n",
    "\n",
    "def main():\n",
    "    ...\n",
    "    ...\n",
    "    ...\n",
    "    \n",
    "if __name__ == \"__main__\":\n",
    "    main()\n",
    "    "
   ]
  },
  {
   "cell_type": "markdown",
   "metadata": {},
   "source": [
    "W przypadku naszego skryptu, Załóżmy, że jest wykonując jako główną funkcję, np. PyCharm wywołuje polecenie\n",
    "\n",
    "python main_example.py\n",
    "\n",
    "W wierszu poleceń. Po skonfigurowaniu specjalnych zmiennych, wykona instrukcję import i załaduje moduły z pierwszej lini.\n",
    "Następnie obliczy blok def, tworząc obiekt funkcji i tworząc zmienną o nazwie main, która wskazuje na obiekt funkcji. Następnie odczyta instrukcję if i zobaczy, że __name__ jest równe \"__main__\", więc wykona pokazany tam blok.\n",
    "\n",
    "Jeden powód, aby to zrobić jest to, że czasami piszemy moduł (plik .py), w którym można go wykonać bezpośrednio. Alternatywnie, może być również zaimportowany i używany w innym module. Wykonując główne sprawdzenie, możemy wykonać ten kod tylko wtedy, gdy chcemy uruchomić moduł jako program, a nie wykonać go, gdy ktoś chce zaimportować nasz moduł i wywołać nasze funkcje samodzielnie."
   ]
  },
  {
   "cell_type": "markdown",
   "metadata": {
    "id": "EvZ0MGfRY7Xd"
   },
   "source": [
    "## Funkcje zagnieżdżone\n",
    "\n",
    "Język Python umożliwia zagnieżdżanie funkcji wewnątrz innych funkcji"
   ]
  },
  {
   "cell_type": "code",
   "execution_count": 33,
   "metadata": {
    "id": "wRJasv4qY1Bp"
   },
   "outputs": [],
   "source": [
    "def foo(x: int, y: int, z: int) -> int:\n",
    "  def suma_dwa(a: int, b: int) -> int: \n",
    "    return a + b\n",
    "  \n",
    "  print(f'suma wynosi {suma_dwa(y, z)}')\n",
    "  return suma_dwa(x, y)"
   ]
  },
  {
   "cell_type": "code",
   "execution_count": 34,
   "metadata": {
    "colab": {
     "base_uri": "https://localhost:8080/"
    },
    "executionInfo": {
     "elapsed": 873,
     "status": "ok",
     "timestamp": 1615921686348,
     "user": {
      "displayName": "Tomasz",
      "photoUrl": "",
      "userId": "05358483110003930735"
     },
     "user_tz": -60
    },
    "id": "I5U7lGEtcBKX",
    "outputId": "0ac130be-4a1e-44b0-98bc-7e7677327283"
   },
   "outputs": [
    {
     "name": "stdout",
     "output_type": "stream",
     "text": [
      "suma wynosi 70\n",
      "50\n"
     ]
    },
    {
     "ename": "NameError",
     "evalue": "name 'suma_dwa' is not defined",
     "output_type": "error",
     "traceback": [
      "\u001B[0;31m---------------------------------------------------------------------------\u001B[0m",
      "\u001B[0;31mNameError\u001B[0m                                 Traceback (most recent call last)",
      "\u001B[0;32m/tmp/ipykernel_30203/1368238704.py\u001B[0m in \u001B[0;36m<module>\u001B[0;34m\u001B[0m\n\u001B[1;32m      1\u001B[0m \u001B[0mprint\u001B[0m\u001B[0;34m(\u001B[0m\u001B[0mfoo\u001B[0m\u001B[0;34m(\u001B[0m\u001B[0;36m20\u001B[0m\u001B[0;34m,\u001B[0m \u001B[0;36m30\u001B[0m\u001B[0;34m,\u001B[0m \u001B[0;36m40\u001B[0m\u001B[0;34m)\u001B[0m\u001B[0;34m)\u001B[0m\u001B[0;34m\u001B[0m\u001B[0;34m\u001B[0m\u001B[0m\n\u001B[0;32m----> 2\u001B[0;31m \u001B[0msuma_dwa\u001B[0m\u001B[0;34m(\u001B[0m\u001B[0;36m2\u001B[0m\u001B[0;34m,\u001B[0m\u001B[0;36m3\u001B[0m\u001B[0;34m)\u001B[0m\u001B[0;34m\u001B[0m\u001B[0;34m\u001B[0m\u001B[0m\n\u001B[0m",
      "\u001B[0;31mNameError\u001B[0m: name 'suma_dwa' is not defined"
     ]
    }
   ],
   "source": [
    "print(foo(20, 30, 40))\n",
    "suma_dwa(2,3)"
   ]
  },
  {
   "cell_type": "markdown",
   "metadata": {
    "id": "THQ9WywscTjo"
   },
   "source": [
    "Funkcje zagnieżdżone mają również swobodny dostęp do zmiennych zdefiniowanych o 1 poziom wyżej"
   ]
  },
  {
   "cell_type": "code",
   "execution_count": 35,
   "metadata": {
    "id": "Z7QvSxIPcCOY"
   },
   "outputs": [],
   "source": [
    "def foo() -> None:\n",
    "  var: int = 10\n",
    "\n",
    "  def foo2() -> None:\n",
    "    print(var)\n",
    "  \n",
    "  foo2()  "
   ]
  },
  {
   "cell_type": "code",
   "execution_count": 36,
   "metadata": {
    "colab": {
     "base_uri": "https://localhost:8080/"
    },
    "executionInfo": {
     "elapsed": 733,
     "status": "ok",
     "timestamp": 1615922313911,
     "user": {
      "displayName": "Tomasz",
      "photoUrl": "",
      "userId": "05358483110003930735"
     },
     "user_tz": -60
    },
    "id": "qSsDhjXOeZFF",
    "outputId": "f5dfb147-00a6-4386-bb2c-4083574bc89a"
   },
   "outputs": [
    {
     "name": "stdout",
     "output_type": "stream",
     "text": [
      "10\n"
     ]
    }
   ],
   "source": [
    "foo()  "
   ]
  },
  {
   "cell_type": "markdown",
   "metadata": {
    "id": "KTN4bYzRechm"
   },
   "source": [
    "W celu modyfikacji w funkcji zagnieżdżonej zmiennej znajdującej się o 1 poziom wyżej, należy użyć słowa kluczowego nonlocal"
   ]
  },
  {
   "cell_type": "code",
   "execution_count": null,
   "metadata": {
    "id": "Ju1519q2ebeQ"
   },
   "outputs": [],
   "source": [
    "def foo() -> None:\n",
    "  var: int = 10  \n",
    "\n",
    "  def foo2() -> None:\n",
    "    nonlocal var  \n",
    "\n",
    "    var = 20\n",
    "  \n",
    "  foo2()  \n",
    "\n",
    "  print(var)  "
   ]
  },
  {
   "cell_type": "code",
   "execution_count": null,
   "metadata": {
    "colab": {
     "base_uri": "https://localhost:8080/"
    },
    "executionInfo": {
     "elapsed": 592,
     "status": "ok",
     "timestamp": 1615922587328,
     "user": {
      "displayName": "Tomasz",
      "photoUrl": "",
      "userId": "05358483110003930735"
     },
     "user_tz": -60
    },
    "id": "4TmKOYxoe49F",
    "outputId": "6b7168fb-c086-4390-b1d6-106f6dcc99e6"
   },
   "outputs": [
    {
     "name": "stdout",
     "output_type": "stream",
     "text": [
      "20\n"
     ]
    }
   ],
   "source": [
    "foo()  "
   ]
  },
  {
   "cell_type": "markdown",
   "metadata": {
    "id": "Cuvj6HdGpWCo"
   },
   "source": [
    "## Zadania\n",
    "\n",
    "1. Przygotować funkcję, która przyjmie argumenty x, y typu całkowitego oraz operator typu tekstowego (dodawanie, odejmowanie). Funkcja zwróci wynik dodawania lub odejmowania argumentów x i y w zależności od znaku działania przekazanego w argumencie operator.\n",
    "\n",
    "2. Przygotować funkcję, która przyjmie argumenty x0, y0 oraz x1, y1 które będą współrzędnymi punktów na płaszczyźnie i zwróci odległość euklidesową między tymi dwoma punktami.\n",
    "\n",
    "3. Przygotować funkcję, która przyjmie argumenty a, b, c typu całkowitego i zwróci miejsca zerowe funkcji kwadratowej dla przekazanych parametrów.\n",
    "\n",
    "4. Przygotować funkcję, która przyjmie argument x w postaci listy liczb całkowitych i zwróci najmniejszą wartość.\n",
    "\n",
    "5. Przygotować funkcję, która przyjmie argument w postaci listy wartości tekstowych i zwróci najdłuższy z nich.\n",
    "\n",
    "6. Przygotować funkcję, która przyjmie dowolną liczbę argumentów pozycyjnych i zwróci ich średnią arytmetyczną.\n",
    "\n",
    "7. Przygotować funkcję, która przyjmie dowolną liczbę argumentów przekazanych przez nazwę i zwróci ich średnią ważoną. Przykładowe wywołanie: foo(v0=2, w0=0.6, v1=4, w1=0.4)\n",
    "\n",
    "8. Przygotować funkcję, która przyjmie argument x w postaci listy wartości całkowitych i zwróci dwie listy: pierwsza zawierająca wartości parzyste, a druga zawierająca wartości nieparzyste z listy x.\n",
    "\n",
    "9. Przygotować funkcję, która sprawdzi czy przekazane słowo w argumencie jest palindromem.\n",
    "\n",
    "10. Przygotować funkcję, która przyjmie listę dowolnych wartości dowolnych typów i zwróci listę dwuwymiarową, gdzie każdy wiersz będzie zawierał wartości tylko jednego typu.\n",
    "\n"
   ]
  },
  {
   "cell_type": "code",
   "execution_count": null,
   "metadata": {
    "id": "CEbuf-9UoZW6"
   },
   "outputs": [],
   "source": []
  },
  {
   "cell_type": "code",
   "execution_count": null,
   "metadata": {},
   "outputs": [],
   "source": []
  }
 ],
 "metadata": {
  "colab": {
   "collapsed_sections": [],
   "name": "lab_4.ipynb",
   "provenance": []
  },
  "kernelspec": {
   "display_name": "Python 3 (ipykernel)",
   "language": "python",
   "name": "python3"
  },
  "language_info": {
   "codemirror_mode": {
    "name": "ipython",
    "version": 3
   },
   "file_extension": ".py",
   "mimetype": "text/x-python",
   "name": "python",
   "nbconvert_exporter": "python",
   "pygments_lexer": "ipython3",
   "version": "3.10.4"
  }
 },
 "nbformat": 4,
 "nbformat_minor": 1
}